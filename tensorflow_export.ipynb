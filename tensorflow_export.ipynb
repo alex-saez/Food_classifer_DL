{
 "cells": [
  {
   "cell_type": "code",
   "execution_count": 1,
   "metadata": {
    "ExecuteTime": {
     "end_time": "2018-07-20T20:38:29.575520Z",
     "start_time": "2018-07-20T20:38:26.535191Z"
    }
   },
   "outputs": [
    {
     "name": "stdout",
     "output_type": "stream",
     "text": [
      "\u001b[33mYou are using pip version 9.0.3, however version 10.0.1 is available.\n",
      "You should consider upgrading via the 'pip install --upgrade pip' command.\u001b[0m\n",
      "tensorflow==1.9.0\n",
      "tensorflow-gpu==1.8.0\n",
      "tensorflow-hub==0.1.0\n",
      "tensorflowjs==0.5.2\n"
     ]
    }
   ],
   "source": [
    "!pip freeze | grep tensorflow"
   ]
  },
  {
   "cell_type": "code",
   "execution_count": 2,
   "metadata": {
    "ExecuteTime": {
     "end_time": "2018-07-20T20:38:29.580178Z",
     "start_time": "2018-07-20T20:38:29.577593Z"
    }
   },
   "outputs": [],
   "source": [
    "# pip install tensorflow==1.9.0rc2 coremltools==0.8 tensorflowjs==0.5.0\n",
    "# pip install tf-nightly==1.10.0.dev20180707\n",
    "# nano /usr/local/anaconda3/envs/tf2/lib/python3.6/site-packages/tensorflow/contrib/lite/python/lite.py"
   ]
  },
  {
   "cell_type": "code",
   "execution_count": 3,
   "metadata": {
    "ExecuteTime": {
     "end_time": "2018-07-20T20:38:29.586222Z",
     "start_time": "2018-07-20T20:38:29.582207Z"
    }
   },
   "outputs": [],
   "source": [
    "#pip install coremltools==0.8 Keras==2.1.6 imutils==0.4.6 opencv-python==3.4.1.15\n"
   ]
  },
  {
   "cell_type": "code",
   "execution_count": 4,
   "metadata": {
    "ExecuteTime": {
     "end_time": "2018-07-20T20:38:29.697585Z",
     "start_time": "2018-07-20T20:38:29.587915Z"
    }
   },
   "outputs": [
    {
     "name": "stdout",
     "output_type": "stream",
     "text": [
      "converted_model.tflite\t     graph.lite\t\t   model_benchmark\r\n",
      "data\t\t\t     helper.py\t\t   models\r\n",
      "dobgreed_mobilenet_tf.ipynb  keras.ipynb\t   prep.ipynb\r\n",
      "dobgreed_resnet.ipynb\t     keras_parallel.ipynb  __pycache__\r\n",
      "dog_breed.h5\t\t     keras_parallel.py\t   sector_labelling.ipynb\r\n",
      "dog_breed.mlmodel\t     labels.csv\t\t   tensorflow_export.ipynb\r\n",
      "dog_breed_tf.h5\t\t     labels.txt\t\t   tensorflow_tf_keras.ipynb\r\n",
      "downloads\t\t     MobileNet.ipynb\t   tmp\r\n",
      "fastai.ipynb\t\t     model\r\n"
     ]
    }
   ],
   "source": [
    "!ls"
   ]
  },
  {
   "cell_type": "code",
   "execution_count": 5,
   "metadata": {
    "ExecuteTime": {
     "end_time": "2018-07-20T20:38:29.702574Z",
     "start_time": "2018-07-20T20:38:29.699904Z"
    }
   },
   "outputs": [],
   "source": [
    "#https://github.com/ianlokh/MobileNet-On-CoreML.git"
   ]
  },
  {
   "cell_type": "code",
   "execution_count": 6,
   "metadata": {
    "ExecuteTime": {
     "end_time": "2018-07-20T20:39:29.977855Z",
     "start_time": "2018-07-20T20:38:29.704370Z"
    }
   },
   "outputs": [],
   "source": [
    "!pip install --quiet  coremltools==0.8 tensorflowjs==0.5.2 tensorflow-gpu==1.9.0"
   ]
  },
  {
   "cell_type": "markdown",
   "metadata": {},
   "source": [
    "```\n",
    "pip uninstall tensorflow protobuf --yes\n",
    "\n",
    "find $CONDA_PREFIX -name \"tensorflow\" | xargs -Ipkg rm -rfv pkg\n",
    "\n",
    "pip install tensorflow-gpu  --upgrade --force-reinstall\n",
    "\n",
    "pip install --ignore-installed --upgrade https://storage.googleapis.com/tensorflow/linux/cpu/tensorflow-1.9.0-cp36-cp36m-linux_x86_64.whl --no-cache-dir\n",
    "```"
   ]
  },
  {
   "cell_type": "code",
   "execution_count": 7,
   "metadata": {
    "ExecuteTime": {
     "end_time": "2018-07-20T20:39:40.317326Z",
     "start_time": "2018-07-20T20:39:29.981122Z"
    }
   },
   "outputs": [
    {
     "name": "stderr",
     "output_type": "stream",
     "text": [
      "/home/ubuntu/anaconda3/envs/fastai/lib/python3.6/site-packages/h5py/__init__.py:36: FutureWarning: Conversion of the second argument of issubdtype from `float` to `np.floating` is deprecated. In future, it will be treated as `np.float64 == np.dtype(float).type`.\n",
      "  from ._conv import register_converters as _register_converters\n",
      "Using TensorFlow backend.\n",
      "WARNING:root:Keras version 2.1.4 detected. Last version known to be fully compatible of Keras is 2.1.3 .\n",
      "WARNING:root:TensorFlow version 1.8.0 detected. Last version known to be fully compatible is 1.5.0 .\n"
     ]
    }
   ],
   "source": [
    "import os\n",
    "import shutil\n",
    "import hashlib\n",
    "import urllib.request\n",
    "import numpy as np\n",
    "import json\n",
    "import keras\n",
    "import tensorflow as tf\n",
    "import coremltools\n",
    "import tensorflowjs as tfjs\n",
    "from tensorflow.python import keras as tf_keras"
   ]
  },
  {
   "cell_type": "code",
   "execution_count": 38,
   "metadata": {
    "ExecuteTime": {
     "end_time": "2018-07-20T20:42:48.039813Z",
     "start_time": "2018-07-20T20:42:47.909823Z"
    }
   },
   "outputs": [],
   "source": [
    "!cp model/food/* ."
   ]
  },
  {
   "cell_type": "code",
   "execution_count": 8,
   "metadata": {
    "ExecuteTime": {
     "end_time": "2018-07-20T20:39:40.322475Z",
     "start_time": "2018-07-20T20:39:40.319791Z"
    }
   },
   "outputs": [],
   "source": [
    "\n",
    "#from keras import backend as K\n",
    "#from keras.models import load_model\n",
    "#from keras.utils.generic_utils import CustomObjectScope\n",
    "#from keras.applications.mobilenet import preprocess_input\n",
    "\n",
    "#from keras.preprocessing import image\n",
    "#from keras.applications.mobilenet import preprocess_input\n",
    "\n"
   ]
  },
  {
   "cell_type": "code",
   "execution_count": null,
   "metadata": {
    "ExecuteTime": {
     "end_time": "2018-07-08T16:07:49.349981Z",
     "start_time": "2018-07-08T16:07:47.491723Z"
    }
   },
   "outputs": [],
   "source": []
  },
  {
   "cell_type": "code",
   "execution_count": null,
   "metadata": {
    "ExecuteTime": {
     "end_time": "2018-07-08T21:05:49.538921Z",
     "start_time": "2018-07-08T21:05:49.402650Z"
    }
   },
   "outputs": [],
   "source": []
  },
  {
   "cell_type": "code",
   "execution_count": 39,
   "metadata": {
    "ExecuteTime": {
     "end_time": "2018-07-20T20:42:56.913461Z",
     "start_time": "2018-07-20T20:42:56.793869Z"
    }
   },
   "outputs": [
    {
     "name": "stdout",
     "output_type": "stream",
     "text": [
      "converted_model.tflite\t     helper.py\t\t   model_benchmark\r\n",
      "data\t\t\t     keras.ipynb\t   model.h5\r\n",
      "dobgreed_mobilenet_tf.ipynb  keras_parallel.ipynb  models\r\n",
      "dobgreed_resnet.ipynb\t     keras_parallel.py\t   prep.ipynb\r\n",
      "dog_breed.h5\t\t     label_classes.json    __pycache__\r\n",
      "dog_breed.mlmodel\t     labels.csv\t\t   sector_labelling.ipynb\r\n",
      "dog_breed_tf.h5\t\t     labels.json\t   tensorflow_export.ipynb\r\n",
      "downloads\t\t     labels.txt\t\t   tensorflow_tf_keras.ipynb\r\n",
      "fastai.ipynb\t\t     MobileNet.ipynb\t   tmp\r\n",
      "graph.lite\t\t     model\r\n"
     ]
    }
   ],
   "source": [
    "!ls"
   ]
  },
  {
   "cell_type": "code",
   "execution_count": 40,
   "metadata": {
    "ExecuteTime": {
     "end_time": "2018-07-20T20:43:09.298899Z",
     "start_time": "2018-07-20T20:43:09.295522Z"
    }
   },
   "outputs": [],
   "source": [
    "with open('model/food/labels.txt') as f:\n",
    "    labels = f.read().splitlines()"
   ]
  },
  {
   "cell_type": "code",
   "execution_count": 41,
   "metadata": {
    "ExecuteTime": {
     "end_time": "2018-07-20T20:43:12.572915Z",
     "start_time": "2018-07-20T20:43:12.569778Z"
    }
   },
   "outputs": [],
   "source": [
    "labels_dict = {idx:label for (idx,label) in enumerate(labels)}"
   ]
  },
  {
   "cell_type": "code",
   "execution_count": 42,
   "metadata": {
    "ExecuteTime": {
     "end_time": "2018-07-20T20:43:13.417514Z",
     "start_time": "2018-07-20T20:43:13.413267Z"
    }
   },
   "outputs": [
    {
     "data": {
      "text/plain": [
       "{0: 'bruschetta',\n",
       " 1: 'fried_calamari',\n",
       " 2: 'hot_and_sour_soup',\n",
       " 3: 'huevos_rancheros',\n",
       " 4: 'red_velvet_cake',\n",
       " 5: 'spaghetti_bolognese',\n",
       " 6: 'spring_rolls',\n",
       " 7: 'tacos',\n",
       " 8: 'tuna_tartare',\n",
       " 9: 'waffles'}"
      ]
     },
     "execution_count": 42,
     "metadata": {},
     "output_type": "execute_result"
    }
   ],
   "source": [
    "labels_dict"
   ]
  },
  {
   "cell_type": "code",
   "execution_count": 43,
   "metadata": {
    "ExecuteTime": {
     "end_time": "2018-07-20T20:43:20.420374Z",
     "start_time": "2018-07-20T20:43:20.416451Z"
    }
   },
   "outputs": [
    {
     "data": {
      "text/plain": [
       "'{\"0\": \"bruschetta\", \"1\": \"fried_calamari\", \"2\": \"hot_and_sour_soup\", \"3\": \"huevos_rancheros\", \"4\": \"red_velvet_cake\", \"5\": \"spaghetti_bolognese\", \"6\": \"spring_rolls\", \"7\": \"tacos\", \"8\": \"tuna_tartare\", \"9\": \"waffles\"}'"
      ]
     },
     "execution_count": 43,
     "metadata": {},
     "output_type": "execute_result"
    }
   ],
   "source": [
    "json.dumps(labels_dict)"
   ]
  },
  {
   "cell_type": "code",
   "execution_count": 44,
   "metadata": {
    "ExecuteTime": {
     "end_time": "2018-07-20T20:43:21.241543Z",
     "start_time": "2018-07-20T20:43:21.237946Z"
    }
   },
   "outputs": [],
   "source": [
    "import json\n",
    "with open('label_classes.json', 'w') as fp:\n",
    "    json.dump(labels_dict, fp, indent=4 )"
   ]
  },
  {
   "cell_type": "code",
   "execution_count": null,
   "metadata": {},
   "outputs": [],
   "source": []
  },
  {
   "cell_type": "code",
   "execution_count": null,
   "metadata": {},
   "outputs": [],
   "source": []
  },
  {
   "cell_type": "code",
   "execution_count": null,
   "metadata": {},
   "outputs": [],
   "source": []
  },
  {
   "cell_type": "code",
   "execution_count": 34,
   "metadata": {
    "ExecuteTime": {
     "end_time": "2018-07-20T20:40:48.514064Z",
     "start_time": "2018-07-20T20:40:48.509971Z"
    }
   },
   "outputs": [
    {
     "data": {
      "text/plain": [
       "['bruschetta',\n",
       " 'fried_calamari',\n",
       " 'hot_and_sour_soup',\n",
       " 'huevos_rancheros',\n",
       " 'red_velvet_cake',\n",
       " 'spaghetti_bolognese',\n",
       " 'spring_rolls',\n",
       " 'tacos',\n",
       " 'tuna_tartare',\n",
       " 'waffles']"
      ]
     },
     "execution_count": 34,
     "metadata": {},
     "output_type": "execute_result"
    }
   ],
   "source": [
    "labels"
   ]
  },
  {
   "cell_type": "code",
   "execution_count": 45,
   "metadata": {
    "ExecuteTime": {
     "end_time": "2018-07-20T20:43:27.976516Z",
     "start_time": "2018-07-20T20:43:27.969681Z"
    }
   },
   "outputs": [],
   "source": [
    "def download_image(url,ext=\".jpg\"):\n",
    "    url_hash = hashlib.md5(url.encode('utf-8')).hexdigest()\n",
    "    file_path = f'{DOWNLOAD_FOLDER}/{url_hash}.{ext}'\n",
    "    \n",
    "    urllib.request.urlretrieve(url,file_path)\n",
    "\n",
    "    img = tf_keras.preprocessing.image.load_img(file_path, target_size=(224, 224))\n",
    "    return img\n",
    "\n",
    "def predict(im, model, labels,n=5):\n",
    "    out = model.predict(img_arr[None,:,:,:]).flatten()\n",
    "    top_indices = out.argsort()[::-1][:n]\n",
    "    \n",
    "    top_probability = out[top_indices]\n",
    "    top_labels = np.array(labels)[top_indices]\n",
    "    \n",
    "    res = list(zip(top_labels,top_probability))\n",
    "    \n",
    "    return res\n",
    "\n",
    "def get_top_n_predictions(preds,labels,n=5):\n",
    "    if len(preds.shape) >1:\n",
    "        preds = preds.flatten()\n",
    "    top_idxs = (-preds).argsort()[:n]\n",
    "    res =[]\n",
    "    for idx in top_idxs:\n",
    "        res.append((labels[idx],preds[idx] ))\n",
    "    return res"
   ]
  },
  {
   "cell_type": "code",
   "execution_count": null,
   "metadata": {
    "ExecuteTime": {
     "end_time": "2018-07-08T03:38:04.107976Z",
     "start_time": "2018-07-08T03:38:04.062131Z"
    }
   },
   "outputs": [],
   "source": []
  },
  {
   "cell_type": "code",
   "execution_count": 46,
   "metadata": {
    "ExecuteTime": {
     "end_time": "2018-07-20T20:43:30.313508Z",
     "start_time": "2018-07-20T20:43:30.310869Z"
    }
   },
   "outputs": [],
   "source": [
    "DOWNLOAD_FOLDER='downloads'"
   ]
  },
  {
   "cell_type": "code",
   "execution_count": 47,
   "metadata": {
    "ExecuteTime": {
     "end_time": "2018-07-20T20:43:31.011747Z",
     "start_time": "2018-07-20T20:43:31.008385Z"
    }
   },
   "outputs": [],
   "source": [
    "shutil.rmtree(DOWNLOAD_FOLDER,ignore_errors=True)\n",
    "os.makedirs(DOWNLOAD_FOLDER, exist_ok=True)"
   ]
  },
  {
   "cell_type": "code",
   "execution_count": null,
   "metadata": {
    "ExecuteTime": {
     "end_time": "2018-07-08T16:08:23.293353Z",
     "start_time": "2018-07-08T16:08:23.289765Z"
    }
   },
   "outputs": [],
   "source": [
    "\n"
   ]
  },
  {
   "cell_type": "code",
   "execution_count": 48,
   "metadata": {
    "ExecuteTime": {
     "end_time": "2018-07-20T20:43:32.636216Z",
     "start_time": "2018-07-20T20:43:32.504197Z"
    }
   },
   "outputs": [
    {
     "data": {
      "image/png": "[encoded data removed]",
      "text/plain": [
       "<PIL.Image.Image image mode=RGB size=224x224 at 0x7F886D03EC50>"
      ]
     },
     "execution_count": 48,
     "metadata": {},
     "output_type": "execute_result"
    }
   ],
   "source": [
    "img_url = \"https://s3.amazonaws.com/cdn-origin-etr.akc.org/wp-content/uploads/2017/11/12231410/Labrador-Retriever-On-White-01.jpg\"\n",
    "img = download_image(img_url)\n",
    "img\n"
   ]
  },
  {
   "cell_type": "code",
   "execution_count": 49,
   "metadata": {
    "ExecuteTime": {
     "end_time": "2018-07-20T20:43:38.779227Z",
     "start_time": "2018-07-20T20:43:38.775562Z"
    }
   },
   "outputs": [],
   "source": [
    "img_preprocessed = keras.applications.mobilenet.preprocess_input (\n",
    "        tf_keras.preprocessing.image.img_to_array(img)\n",
    ")"
   ]
  },
  {
   "cell_type": "code",
   "execution_count": 50,
   "metadata": {
    "ExecuteTime": {
     "end_time": "2018-07-20T20:43:39.470747Z",
     "start_time": "2018-07-20T20:43:39.467097Z"
    }
   },
   "outputs": [],
   "source": [
    "img_arr = keras.applications.mobilenet.preprocess_input (\n",
    "        tf_keras.preprocessing.image.img_to_array(img)\n",
    ")"
   ]
  },
  {
   "cell_type": "markdown",
   "metadata": {},
   "source": [
    "# Keras"
   ]
  },
  {
   "cell_type": "code",
   "execution_count": 51,
   "metadata": {
    "ExecuteTime": {
     "end_time": "2018-07-20T20:43:42.059130Z",
     "start_time": "2018-07-20T20:43:42.055576Z"
    }
   },
   "outputs": [],
   "source": [
    "def load_keras_model(model_path):\n",
    "    with keras.utils.generic_utils.CustomObjectScope({'relu6': keras.applications.mobilenet.relu6,'DepthwiseConv2D': keras.applications.mobilenet.DepthwiseConv2D}):\n",
    "        keras_model =  keras.models.load_model(model_path)\n",
    "    return keras_model"
   ]
  },
  {
   "cell_type": "code",
   "execution_count": 52,
   "metadata": {
    "ExecuteTime": {
     "end_time": "2018-07-20T20:44:01.815422Z",
     "start_time": "2018-07-20T20:43:56.175246Z"
    }
   },
   "outputs": [],
   "source": [
    "keras_model = load_keras_model(model_path='model.h5')\n"
   ]
  },
  {
   "cell_type": "code",
   "execution_count": 53,
   "metadata": {
    "ExecuteTime": {
     "end_time": "2018-07-20T20:44:11.435199Z",
     "start_time": "2018-07-20T20:44:10.942470Z"
    }
   },
   "outputs": [
    {
     "data": {
      "text/plain": [
       "[('spring_rolls', 0.5268984),\n",
       " ('waffles', 0.29262805),\n",
       " ('tuna_tartare', 0.072455585),\n",
       " ('red_velvet_cake', 0.028541096),\n",
       " ('tacos', 0.025147093)]"
      ]
     },
     "execution_count": 53,
     "metadata": {},
     "output_type": "execute_result"
    }
   ],
   "source": [
    "predict(im=img_preprocessed ,model=keras_model, labels=labels)"
   ]
  },
  {
   "cell_type": "markdown",
   "metadata": {},
   "source": [
    "# Tensorflow Estimator"
   ]
  },
  {
   "cell_type": "code",
   "execution_count": 25,
   "metadata": {
    "ExecuteTime": {
     "end_time": "2018-07-20T20:39:46.827054Z",
     "start_time": "2018-07-20T20:39:46.824596Z"
    }
   },
   "outputs": [],
   "source": [
    "from tensorflow.python import keras as tf_keras"
   ]
  },
  {
   "cell_type": "code",
   "execution_count": 26,
   "metadata": {
    "ExecuteTime": {
     "end_time": "2018-07-20T20:39:46.831430Z",
     "start_time": "2018-07-20T20:39:46.828862Z"
    }
   },
   "outputs": [],
   "source": [
    "#from tensorflow.python.keras.models import load_model\n"
   ]
  },
  {
   "cell_type": "code",
   "execution_count": 27,
   "metadata": {
    "ExecuteTime": {
     "end_time": "2018-07-20T20:39:46.837061Z",
     "start_time": "2018-07-20T20:39:46.833175Z"
    }
   },
   "outputs": [],
   "source": [
    "def load_keras_using_tf(model_path):\n",
    "\n",
    "    custom_objects={'relu6': tf_keras.applications.mobilenet.relu6,'DepthwiseConv2D': tf_keras.applications.mobilenet.DepthwiseConv2D}\n",
    "    \n",
    "    model = tf_keras.models.load_model(model_path,custom_objects=custom_objects)\n",
    "        \n",
    "    mobilenet_estimator = tf.keras.estimator.model_to_estimator(keras_model=model, custom_objects={'relu6': tf_keras.applications.mobilenet.relu6})\n",
    "    \n",
    "    return mobilenet_estimator"
   ]
  },
  {
   "cell_type": "code",
   "execution_count": 28,
   "metadata": {
    "ExecuteTime": {
     "end_time": "2018-07-20T20:39:46.935593Z",
     "start_time": "2018-07-20T20:39:46.838832Z"
    }
   },
   "outputs": [
    {
     "ename": "AttributeError",
     "evalue": "module 'tensorflow.python.keras.applications.mobilenet' has no attribute 'relu6'",
     "output_type": "error",
     "traceback": [
      "\u001b[0;31m---------------------------------------------------------------------------\u001b[0m",
      "\u001b[0;31mAttributeError\u001b[0m                            Traceback (most recent call last)",
      "\u001b[0;32m<ipython-input-28-2d6931f808a6>\u001b[0m in \u001b[0;36m<module>\u001b[0;34m()\u001b[0m\n\u001b[0;32m----> 1\u001b[0;31m \u001b[0mtf_keras_model\u001b[0m \u001b[0;34m=\u001b[0m \u001b[0mload_keras_using_tf\u001b[0m\u001b[0;34m(\u001b[0m\u001b[0;34m'dog_breed.h5'\u001b[0m\u001b[0;34m)\u001b[0m\u001b[0;34m\u001b[0m\u001b[0m\n\u001b[0m",
      "\u001b[0;32m<ipython-input-27-0bc2cff8b5e8>\u001b[0m in \u001b[0;36mload_keras_using_tf\u001b[0;34m(model_path)\u001b[0m\n\u001b[1;32m      1\u001b[0m \u001b[0;32mdef\u001b[0m \u001b[0mload_keras_using_tf\u001b[0m\u001b[0;34m(\u001b[0m\u001b[0mmodel_path\u001b[0m\u001b[0;34m)\u001b[0m\u001b[0;34m:\u001b[0m\u001b[0;34m\u001b[0m\u001b[0m\n\u001b[1;32m      2\u001b[0m \u001b[0;34m\u001b[0m\u001b[0m\n\u001b[0;32m----> 3\u001b[0;31m     \u001b[0mcustom_objects\u001b[0m\u001b[0;34m=\u001b[0m\u001b[0;34m{\u001b[0m\u001b[0;34m'relu6'\u001b[0m\u001b[0;34m:\u001b[0m \u001b[0mtf_keras\u001b[0m\u001b[0;34m.\u001b[0m\u001b[0mapplications\u001b[0m\u001b[0;34m.\u001b[0m\u001b[0mmobilenet\u001b[0m\u001b[0;34m.\u001b[0m\u001b[0mrelu6\u001b[0m\u001b[0;34m,\u001b[0m\u001b[0;34m'DepthwiseConv2D'\u001b[0m\u001b[0;34m:\u001b[0m \u001b[0mtf_keras\u001b[0m\u001b[0;34m.\u001b[0m\u001b[0mapplications\u001b[0m\u001b[0;34m.\u001b[0m\u001b[0mmobilenet\u001b[0m\u001b[0;34m.\u001b[0m\u001b[0mDepthwiseConv2D\u001b[0m\u001b[0;34m}\u001b[0m\u001b[0;34m\u001b[0m\u001b[0m\n\u001b[0m\u001b[1;32m      4\u001b[0m \u001b[0;34m\u001b[0m\u001b[0m\n\u001b[1;32m      5\u001b[0m     \u001b[0mmodel\u001b[0m \u001b[0;34m=\u001b[0m \u001b[0mtf_keras\u001b[0m\u001b[0;34m.\u001b[0m\u001b[0mmodels\u001b[0m\u001b[0;34m.\u001b[0m\u001b[0mload_model\u001b[0m\u001b[0;34m(\u001b[0m\u001b[0mmodel_path\u001b[0m\u001b[0;34m,\u001b[0m\u001b[0mcustom_objects\u001b[0m\u001b[0;34m=\u001b[0m\u001b[0mcustom_objects\u001b[0m\u001b[0;34m)\u001b[0m\u001b[0;34m\u001b[0m\u001b[0m\n",
      "\u001b[0;31mAttributeError\u001b[0m: module 'tensorflow.python.keras.applications.mobilenet' has no attribute 'relu6'"
     ]
    }
   ],
   "source": [
    "tf_keras_model = load_keras_using_tf('dog_breed.h5')"
   ]
  },
  {
   "cell_type": "code",
   "execution_count": null,
   "metadata": {
    "ExecuteTime": {
     "end_time": "2018-07-20T20:39:46.936528Z",
     "start_time": "2018-07-20T20:38:26.587Z"
    }
   },
   "outputs": [],
   "source": [
    "predict_input_fn = tf.estimator.inputs.numpy_input_fn(\n",
    "  x={\"input_1\": img_preprocessed[None,:,:,:]},\n",
    "  num_epochs=1,\n",
    "  shuffle=False)"
   ]
  },
  {
   "cell_type": "code",
   "execution_count": null,
   "metadata": {
    "ExecuteTime": {
     "end_time": "2018-07-20T20:39:46.937394Z",
     "start_time": "2018-07-20T20:38:26.589Z"
    }
   },
   "outputs": [],
   "source": [
    "predictions = list(tf_keras_model.predict(input_fn=predict_input_fn))\n",
    "preds= predictions[0]['dense_1']\n",
    "get_top_n_predictions(preds=preds,labels=labels)"
   ]
  },
  {
   "cell_type": "code",
   "execution_count": null,
   "metadata": {},
   "outputs": [],
   "source": []
  },
  {
   "cell_type": "markdown",
   "metadata": {},
   "source": [
    "# convert tfjs"
   ]
  },
  {
   "cell_type": "code",
   "execution_count": 54,
   "metadata": {
    "ExecuteTime": {
     "end_time": "2018-07-20T20:45:49.370226Z",
     "start_time": "2018-07-20T20:45:49.318148Z"
    }
   },
   "outputs": [],
   "source": [
    "?tfjs.converters.save_keras_model"
   ]
  },
  {
   "cell_type": "code",
   "execution_count": 55,
   "metadata": {
    "ExecuteTime": {
     "end_time": "2018-07-20T20:45:52.143551Z",
     "start_time": "2018-07-20T20:45:52.140491Z"
    }
   },
   "outputs": [],
   "source": [
    "artifacts_dir = 'tfjs_artifacts'"
   ]
  },
  {
   "cell_type": "code",
   "execution_count": 59,
   "metadata": {
    "ExecuteTime": {
     "end_time": "2018-07-20T20:47:11.186495Z",
     "start_time": "2018-07-20T20:47:11.064036Z"
    }
   },
   "outputs": [],
   "source": [
    "!mkdir -p {artifacts_dir}"
   ]
  },
  {
   "cell_type": "code",
   "execution_count": 60,
   "metadata": {
    "ExecuteTime": {
     "end_time": "2018-07-20T20:47:11.938404Z",
     "start_time": "2018-07-20T20:47:11.934924Z"
    }
   },
   "outputs": [],
   "source": [
    "shutil.rmtree(artifacts_dir)"
   ]
  },
  {
   "cell_type": "code",
   "execution_count": 61,
   "metadata": {
    "ExecuteTime": {
     "end_time": "2018-07-20T20:47:19.635006Z",
     "start_time": "2018-07-20T20:47:17.302190Z"
    }
   },
   "outputs": [],
   "source": [
    "tfjs.converters.save_keras_model(\n",
    "    model = keras_model, \n",
    "    artifacts_dir=artifacts_dir)"
   ]
  },
  {
   "cell_type": "code",
   "execution_count": null,
   "metadata": {},
   "outputs": [],
   "source": []
  },
  {
   "cell_type": "markdown",
   "metadata": {},
   "source": [
    "# convert tflite"
   ]
  },
  {
   "cell_type": "markdown",
   "metadata": {},
   "source": [
    "Convert model to tensorflow signature graph"
   ]
  },
  {
   "cell_type": "code",
   "execution_count": 62,
   "metadata": {
    "ExecuteTime": {
     "end_time": "2018-07-20T20:48:19.459934Z",
     "start_time": "2018-07-20T20:48:19.452916Z"
    }
   },
   "outputs": [],
   "source": [
    "def save_model(keras_model_path:str, path:str):\n",
    "    #https://gist.github.com/asimshankar/000b8d276f211f972168afa138eb3cc7\n",
    "    shutil.rmtree(path,ignore_errors=True)\n",
    "    keras.backend.set_learning_phase(0)\n",
    "\n",
    "    with keras.backend.get_session() as sess:\n",
    "        # load keras model\n",
    "        custom_objects={'relu6': keras.applications.mobilenet.relu6,'DepthwiseConv2D': keras.applications.mobilenet.DepthwiseConv2D}\n",
    "        model = keras.models.load_model(keras_model_path, custom_objects=custom_objects)\n",
    "\n",
    "\n",
    "        # code to convert to tensorflow saved models\n",
    "        signature = tf.saved_model.signature_def_utils.predict_signature_def(                                                                        \n",
    "        inputs={'image': model.input}, outputs={'scores': model.output})                                                                         \n",
    "\n",
    "        \n",
    "        builder = tf.saved_model.builder.SavedModelBuilder(path) \n",
    "\n",
    "        builder.add_meta_graph_and_variables(                                                                                                        \n",
    "                sess=sess,                                                                                                                    \n",
    "                tags=[tf.saved_model.tag_constants.SERVING],                                                                                             \n",
    "                signature_def_map={                                                                                                                      \n",
    "                    tf.saved_model.signature_constants.DEFAULT_SERVING_SIGNATURE_DEF_KEY:                                                                \n",
    "                        signature                                                                                                                        \n",
    "                })                                                                                                                                       \n",
    "        builder.save()"
   ]
  },
  {
   "cell_type": "code",
   "execution_count": 63,
   "metadata": {
    "ExecuteTime": {
     "end_time": "2018-07-20T20:48:22.969452Z",
     "start_time": "2018-07-20T20:48:22.895128Z"
    }
   },
   "outputs": [],
   "source": [
    "keras.backend.clear_session()"
   ]
  },
  {
   "cell_type": "code",
   "execution_count": 64,
   "metadata": {
    "ExecuteTime": {
     "end_time": "2018-07-20T20:48:23.654608Z",
     "start_time": "2018-07-20T20:48:23.651625Z"
    }
   },
   "outputs": [],
   "source": [
    "model_path = \"prod_models\""
   ]
  },
  {
   "cell_type": "code",
   "execution_count": 65,
   "metadata": {
    "ExecuteTime": {
     "end_time": "2018-07-20T20:48:39.660511Z",
     "start_time": "2018-07-20T20:48:33.731280Z"
    }
   },
   "outputs": [
    {
     "name": "stdout",
     "output_type": "stream",
     "text": [
      "INFO:tensorflow:No assets to save.\n"
     ]
    },
    {
     "name": "stderr",
     "output_type": "stream",
     "text": [
      "INFO:tensorflow:No assets to save.\n"
     ]
    },
    {
     "name": "stdout",
     "output_type": "stream",
     "text": [
      "INFO:tensorflow:No assets to write.\n"
     ]
    },
    {
     "name": "stderr",
     "output_type": "stream",
     "text": [
      "INFO:tensorflow:No assets to write.\n"
     ]
    },
    {
     "name": "stdout",
     "output_type": "stream",
     "text": [
      "INFO:tensorflow:SavedModel written to: b'prod_models/saved_model.pb'\n"
     ]
    },
    {
     "name": "stderr",
     "output_type": "stream",
     "text": [
      "INFO:tensorflow:SavedModel written to: b'prod_models/saved_model.pb'\n"
     ]
    }
   ],
   "source": [
    "save_model(keras_model_path='model.h5', path=model_path)"
   ]
  },
  {
   "cell_type": "code",
   "execution_count": 68,
   "metadata": {
    "ExecuteTime": {
     "end_time": "2018-07-20T20:49:45.472083Z",
     "start_time": "2018-07-20T20:49:45.468574Z"
    }
   },
   "outputs": [],
   "source": [
    "def convert_to_tf_lite(model_dir, dest_name='graph.lite'):\n",
    "    converter = tf.contrib.lite.TocoConverter.from_saved_model(model_dir)\n",
    "    tflite_model = converter.convert()\n",
    "    open(dest_name, \"wb\").write(tflite_model)   "
   ]
  },
  {
   "cell_type": "code",
   "execution_count": 69,
   "metadata": {
    "ExecuteTime": {
     "end_time": "2018-07-20T20:49:46.251728Z",
     "start_time": "2018-07-20T20:49:46.228313Z"
    }
   },
   "outputs": [
    {
     "ename": "AttributeError",
     "evalue": "module 'tensorflow.contrib.lite.python.lite' has no attribute 'ToConverter'",
     "output_type": "error",
     "traceback": [
      "\u001b[0;31m---------------------------------------------------------------------------\u001b[0m",
      "\u001b[0;31mAttributeError\u001b[0m                            Traceback (most recent call last)",
      "\u001b[0;32m<ipython-input-69-d5d3c694b79b>\u001b[0m in \u001b[0;36m<module>\u001b[0;34m()\u001b[0m\n\u001b[0;32m----> 1\u001b[0;31m \u001b[0mconvert_to_tf_lite\u001b[0m\u001b[0;34m(\u001b[0m\u001b[0mmodel_dir\u001b[0m\u001b[0;34m=\u001b[0m\u001b[0mmodel_path\u001b[0m\u001b[0;34m)\u001b[0m\u001b[0;34m\u001b[0m\u001b[0m\n\u001b[0m",
      "\u001b[0;32m<ipython-input-68-14b57156f8b8>\u001b[0m in \u001b[0;36mconvert_to_tf_lite\u001b[0;34m(model_dir, dest_name)\u001b[0m\n\u001b[1;32m      1\u001b[0m \u001b[0;32mdef\u001b[0m \u001b[0mconvert_to_tf_lite\u001b[0m\u001b[0;34m(\u001b[0m\u001b[0mmodel_dir\u001b[0m\u001b[0;34m,\u001b[0m \u001b[0mdest_name\u001b[0m\u001b[0;34m=\u001b[0m\u001b[0;34m'graph.lite'\u001b[0m\u001b[0;34m)\u001b[0m\u001b[0;34m:\u001b[0m\u001b[0;34m\u001b[0m\u001b[0m\n\u001b[0;32m----> 2\u001b[0;31m     \u001b[0mconverter\u001b[0m \u001b[0;34m=\u001b[0m \u001b[0mtf\u001b[0m\u001b[0;34m.\u001b[0m\u001b[0mcontrib\u001b[0m\u001b[0;34m.\u001b[0m\u001b[0mlite\u001b[0m\u001b[0;34m.\u001b[0m\u001b[0mToConverter\u001b[0m\u001b[0;34m.\u001b[0m\u001b[0mfrom_saved_model\u001b[0m\u001b[0;34m(\u001b[0m\u001b[0mmodel_dir\u001b[0m\u001b[0;34m)\u001b[0m\u001b[0;34m\u001b[0m\u001b[0m\n\u001b[0m\u001b[1;32m      3\u001b[0m     \u001b[0mtflite_model\u001b[0m \u001b[0;34m=\u001b[0m \u001b[0mconverter\u001b[0m\u001b[0;34m.\u001b[0m\u001b[0mconvert\u001b[0m\u001b[0;34m(\u001b[0m\u001b[0;34m)\u001b[0m\u001b[0;34m\u001b[0m\u001b[0m\n\u001b[1;32m      4\u001b[0m     \u001b[0mopen\u001b[0m\u001b[0;34m(\u001b[0m\u001b[0mdest_name\u001b[0m\u001b[0;34m,\u001b[0m \u001b[0;34m\"wb\"\u001b[0m\u001b[0;34m)\u001b[0m\u001b[0;34m.\u001b[0m\u001b[0mwrite\u001b[0m\u001b[0;34m(\u001b[0m\u001b[0mtflite_model\u001b[0m\u001b[0;34m)\u001b[0m\u001b[0;34m\u001b[0m\u001b[0m\n",
      "\u001b[0;31mAttributeError\u001b[0m: module 'tensorflow.contrib.lite.python.lite' has no attribute 'ToConverter'"
     ]
    }
   ],
   "source": [
    "convert_to_tf_lite(model_dir=model_path)"
   ]
  },
  {
   "cell_type": "code",
   "execution_count": 77,
   "metadata": {
    "ExecuteTime": {
     "end_time": "2018-07-20T20:58:43.991345Z",
     "start_time": "2018-07-20T20:58:43.988335Z"
    }
   },
   "outputs": [],
   "source": [
    "from IPython.display import FileLink"
   ]
  },
  {
   "cell_type": "code",
   "execution_count": 78,
   "metadata": {
    "ExecuteTime": {
     "end_time": "2018-07-20T20:58:44.805138Z",
     "start_time": "2018-07-20T20:58:44.800724Z"
    }
   },
   "outputs": [
    {
     "data": {
      "text/html": [
       "<a href='labels.csv' target='_blank'>labels.csv</a><br>"
      ],
      "text/plain": [
       "/home/ubuntu/deep_learning_workshop/training/labels.csv"
      ]
     },
     "execution_count": 78,
     "metadata": {},
     "output_type": "execute_result"
    }
   ],
   "source": [
    "FileLink('labels.csv')"
   ]
  },
  {
   "cell_type": "code",
   "execution_count": 79,
   "metadata": {
    "ExecuteTime": {
     "end_time": "2018-07-20T20:59:15.406696Z",
     "start_time": "2018-07-20T20:59:15.402120Z"
    }
   },
   "outputs": [
    {
     "data": {
      "text/html": [
       "<a href='labels.txt' target='_blank'>labels.txt</a><br>"
      ],
      "text/plain": [
       "/home/ubuntu/deep_learning_workshop/training/labels.txt"
      ]
     },
     "execution_count": 79,
     "metadata": {},
     "output_type": "execute_result"
    }
   ],
   "source": [
    "FileLink('labels.txt')"
   ]
  },
  {
   "cell_type": "code",
   "execution_count": 80,
   "metadata": {
    "ExecuteTime": {
     "end_time": "2018-07-20T20:59:26.921481Z",
     "start_time": "2018-07-20T20:59:26.917283Z"
    }
   },
   "outputs": [
    {
     "data": {
      "text/html": [
       "<a href='model.h5' target='_blank'>model.h5</a><br>"
      ],
      "text/plain": [
       "/home/ubuntu/deep_learning_workshop/training/model.h5"
      ]
     },
     "execution_count": 80,
     "metadata": {},
     "output_type": "execute_result"
    }
   ],
   "source": [
    "FileLink('model.h5')"
   ]
  },
  {
   "cell_type": "code",
   "execution_count": 81,
   "metadata": {
    "ExecuteTime": {
     "end_time": "2018-07-20T20:59:41.807869Z",
     "start_time": "2018-07-20T20:59:41.803351Z"
    }
   },
   "outputs": [
    {
     "data": {
      "text/html": [
       "<a href='model.mlmodel' target='_blank'>model.mlmodel</a><br>"
      ],
      "text/plain": [
       "/home/ubuntu/deep_learning_workshop/training/model.mlmodel"
      ]
     },
     "execution_count": 81,
     "metadata": {},
     "output_type": "execute_result"
    }
   ],
   "source": [
    "FileLink('model.mlmodel')"
   ]
  },
  {
   "cell_type": "markdown",
   "metadata": {},
   "source": [
    "# coreml"
   ]
  },
  {
   "cell_type": "markdown",
   "metadata": {},
   "source": [
    "https://developer.apple.com/documentation/vision/classifying_images_with_vision_and_core_ml"
   ]
  },
  {
   "cell_type": "code",
   "execution_count": 70,
   "metadata": {
    "ExecuteTime": {
     "end_time": "2018-07-20T20:50:12.585976Z",
     "start_time": "2018-07-20T20:50:12.557436Z"
    }
   },
   "outputs": [],
   "source": [
    "keras.backend.clear_session()"
   ]
  },
  {
   "cell_type": "code",
   "execution_count": 72,
   "metadata": {
    "ExecuteTime": {
     "end_time": "2018-07-20T20:51:19.881434Z",
     "start_time": "2018-07-20T20:51:14.285395Z"
    }
   },
   "outputs": [],
   "source": [
    "model = load_keras_model(model_path='model.h5')\n"
   ]
  },
  {
   "cell_type": "markdown",
   "metadata": {},
   "source": [
    "Because the Keras model was trained on ImageNet, need to subtract the mean from RGB\n",
    "\n",
    "- red_bias=-123.68\n",
    "- green_bias=-116.78\n",
    "- blue_bias=-103.94"
   ]
  },
  {
   "cell_type": "code",
   "execution_count": 73,
   "metadata": {
    "ExecuteTime": {
     "end_time": "2018-07-20T20:51:36.322071Z",
     "start_time": "2018-07-20T20:51:32.411847Z"
    }
   },
   "outputs": [
    {
     "name": "stdout",
     "output_type": "stream",
     "text": [
      "0 : input_1, <keras.engine.topology.InputLayer object at 0x7f8830025710>\n",
      "1 : conv1_pad, <keras.layers.convolutional.ZeroPadding2D object at 0x7f8830025780>\n",
      "2 : conv1, <keras.layers.convolutional.Conv2D object at 0x7f88300259e8>\n",
      "3 : conv1_bn, <keras.layers.normalization.BatchNormalization object at 0x7f8830025ac8>\n",
      "4 : conv1_relu, <keras.layers.core.Activation object at 0x7f88300257f0>\n",
      "5 : conv_pad_1, <keras.layers.convolutional.ZeroPadding2D object at 0x7f8830025ba8>\n",
      "6 : conv_dw_1, <keras.applications.mobilenet.DepthwiseConv2D object at 0x7f8830025be0>\n",
      "7 : conv_dw_1_bn, <keras.layers.normalization.BatchNormalization object at 0x7f8830025c50>\n",
      "8 : conv_dw_1_relu, <keras.layers.core.Activation object at 0x7f8830025cc0>\n",
      "9 : conv_pw_1, <keras.layers.convolutional.Conv2D object at 0x7f8830025f98>\n",
      "10 : conv_pw_1_bn, <keras.layers.normalization.BatchNormalization object at 0x7f8830029160>\n",
      "11 : conv_pw_1_relu, <keras.layers.core.Activation object at 0x7f88300292b0>\n",
      "12 : conv_pad_2, <keras.layers.convolutional.ZeroPadding2D object at 0x7f88300292e8>\n",
      "13 : conv_dw_2, <keras.applications.mobilenet.DepthwiseConv2D object at 0x7f8830029358>\n",
      "14 : conv_dw_2_bn, <keras.layers.normalization.BatchNormalization object at 0x7f88300293c8>\n",
      "15 : conv_dw_2_relu, <keras.layers.core.Activation object at 0x7f88300296a0>\n",
      "16 : conv_pw_2, <keras.layers.convolutional.Conv2D object at 0x7f88300296d8>\n",
      "17 : conv_pw_2_bn, <keras.layers.normalization.BatchNormalization object at 0x7f8830029828>\n",
      "18 : conv_pw_2_relu, <keras.layers.core.Activation object at 0x7f8830029978>\n",
      "19 : conv_pad_3, <keras.layers.convolutional.ZeroPadding2D object at 0x7f88300299b0>\n",
      "20 : conv_dw_3, <keras.applications.mobilenet.DepthwiseConv2D object at 0x7f8830029a20>\n",
      "21 : conv_dw_3_bn, <keras.layers.normalization.BatchNormalization object at 0x7f8830029a90>\n",
      "22 : conv_dw_3_relu, <keras.layers.core.Activation object at 0x7f8830029d68>\n",
      "23 : conv_pw_3, <keras.layers.convolutional.Conv2D object at 0x7f8830029da0>\n",
      "24 : conv_pw_3_bn, <keras.layers.normalization.BatchNormalization object at 0x7f8830029ef0>\n",
      "25 : conv_pw_3_relu, <keras.layers.core.Activation object at 0x7f8830025fd0>\n",
      "26 : conv_pad_4, <keras.layers.convolutional.ZeroPadding2D object at 0x7f88300300b8>\n",
      "27 : conv_dw_4, <keras.applications.mobilenet.DepthwiseConv2D object at 0x7f8830030128>\n",
      "28 : conv_dw_4_bn, <keras.layers.normalization.BatchNormalization object at 0x7f8830030198>\n",
      "29 : conv_dw_4_relu, <keras.layers.core.Activation object at 0x7f8830030470>\n",
      "30 : conv_pw_4, <keras.layers.convolutional.Conv2D object at 0x7f88300304a8>\n",
      "31 : conv_pw_4_bn, <keras.layers.normalization.BatchNormalization object at 0x7f88300305f8>\n",
      "32 : conv_pw_4_relu, <keras.layers.core.Activation object at 0x7f8830030748>\n",
      "33 : conv_pad_5, <keras.layers.convolutional.ZeroPadding2D object at 0x7f8830030780>\n",
      "34 : conv_dw_5, <keras.applications.mobilenet.DepthwiseConv2D object at 0x7f88300307f0>\n",
      "35 : conv_dw_5_bn, <keras.layers.normalization.BatchNormalization object at 0x7f8830030860>\n",
      "36 : conv_dw_5_relu, <keras.layers.core.Activation object at 0x7f8830030b38>\n",
      "37 : conv_pw_5, <keras.layers.convolutional.Conv2D object at 0x7f8830030b70>\n",
      "38 : conv_pw_5_bn, <keras.layers.normalization.BatchNormalization object at 0x7f8830030cc0>\n",
      "39 : conv_pw_5_relu, <keras.layers.core.Activation object at 0x7f8830030e10>\n",
      "40 : conv_pad_6, <keras.layers.convolutional.ZeroPadding2D object at 0x7f8830030e48>\n",
      "41 : conv_dw_6, <keras.applications.mobilenet.DepthwiseConv2D object at 0x7f8830030eb8>\n",
      "42 : conv_dw_6_bn, <keras.layers.normalization.BatchNormalization object at 0x7f8830029fd0>\n",
      "43 : conv_dw_6_relu, <keras.layers.core.Activation object at 0x7f8830037240>\n",
      "44 : conv_pw_6, <keras.layers.convolutional.Conv2D object at 0x7f8830037278>\n",
      "45 : conv_pw_6_bn, <keras.layers.normalization.BatchNormalization object at 0x7f88300373c8>\n",
      "46 : conv_pw_6_relu, <keras.layers.core.Activation object at 0x7f8830037518>\n",
      "47 : conv_pad_7, <keras.layers.convolutional.ZeroPadding2D object at 0x7f8830037550>\n",
      "48 : conv_dw_7, <keras.applications.mobilenet.DepthwiseConv2D object at 0x7f88300375c0>\n",
      "49 : conv_dw_7_bn, <keras.layers.normalization.BatchNormalization object at 0x7f8830037630>\n",
      "50 : conv_dw_7_relu, <keras.layers.core.Activation object at 0x7f8830037908>\n",
      "51 : conv_pw_7, <keras.layers.convolutional.Conv2D object at 0x7f8830037940>\n",
      "52 : conv_pw_7_bn, <keras.layers.normalization.BatchNormalization object at 0x7f8830037a90>\n",
      "53 : conv_pw_7_relu, <keras.layers.core.Activation object at 0x7f8830037be0>\n",
      "54 : conv_pad_8, <keras.layers.convolutional.ZeroPadding2D object at 0x7f8830037c18>\n",
      "55 : conv_dw_8, <keras.applications.mobilenet.DepthwiseConv2D object at 0x7f8830037c88>\n",
      "56 : conv_dw_8_bn, <keras.layers.normalization.BatchNormalization object at 0x7f8830037cf8>\n",
      "57 : conv_dw_8_relu, <keras.layers.core.Activation object at 0x7f8830030f28>\n",
      "58 : conv_pw_8, <keras.layers.convolutional.Conv2D object at 0x7f883003e048>\n",
      "59 : conv_pw_8_bn, <keras.layers.normalization.BatchNormalization object at 0x7f883003e198>\n",
      "60 : conv_pw_8_relu, <keras.layers.core.Activation object at 0x7f883003e2e8>\n",
      "61 : conv_pad_9, <keras.layers.convolutional.ZeroPadding2D object at 0x7f883003e320>\n",
      "62 : conv_dw_9, <keras.applications.mobilenet.DepthwiseConv2D object at 0x7f883003e390>\n",
      "63 : conv_dw_9_bn, <keras.layers.normalization.BatchNormalization object at 0x7f883003e400>\n",
      "64 : conv_dw_9_relu, <keras.layers.core.Activation object at 0x7f883003e6d8>\n",
      "65 : conv_pw_9, <keras.layers.convolutional.Conv2D object at 0x7f883003e710>\n",
      "66 : conv_pw_9_bn, <keras.layers.normalization.BatchNormalization object at 0x7f883003e860>\n",
      "67 : conv_pw_9_relu, <keras.layers.core.Activation object at 0x7f883003e9b0>\n",
      "68 : conv_pad_10, <keras.layers.convolutional.ZeroPadding2D object at 0x7f883003e9e8>\n",
      "69 : conv_dw_10, <keras.applications.mobilenet.DepthwiseConv2D object at 0x7f883003ea58>\n",
      "70 : conv_dw_10_bn, <keras.layers.normalization.BatchNormalization object at 0x7f883003eac8>\n",
      "71 : conv_dw_10_relu, <keras.layers.core.Activation object at 0x7f883003eda0>\n",
      "72 : conv_pw_10, <keras.layers.convolutional.Conv2D object at 0x7f883003edd8>\n",
      "73 : conv_pw_10_bn, <keras.layers.normalization.BatchNormalization object at 0x7f883003ef28>\n",
      "74 : conv_pw_10_relu, <keras.layers.core.Activation object at 0x7f8830037fd0>\n",
      "75 : conv_pad_11, <keras.layers.convolutional.ZeroPadding2D object at 0x7f882ffc40f0>\n",
      "76 : conv_dw_11, <keras.applications.mobilenet.DepthwiseConv2D object at 0x7f882ffc4160>\n",
      "77 : conv_dw_11_bn, <keras.layers.normalization.BatchNormalization object at 0x7f882ffc41d0>\n",
      "78 : conv_dw_11_relu, <keras.layers.core.Activation object at 0x7f882ffc44a8>\n",
      "79 : conv_pw_11, <keras.layers.convolutional.Conv2D object at 0x7f882ffc44e0>\n",
      "80 : conv_pw_11_bn, <keras.layers.normalization.BatchNormalization object at 0x7f882ffc4630>\n",
      "81 : conv_pw_11_relu, <keras.layers.core.Activation object at 0x7f882ffc4780>\n",
      "82 : conv_pad_12, <keras.layers.convolutional.ZeroPadding2D object at 0x7f882ffc47b8>\n",
      "83 : conv_dw_12, <keras.applications.mobilenet.DepthwiseConv2D object at 0x7f882ffc4828>\n",
      "84 : conv_dw_12_bn, <keras.layers.normalization.BatchNormalization object at 0x7f882ffc4898>\n",
      "85 : conv_dw_12_relu, <keras.layers.core.Activation object at 0x7f882ffc4b70>\n",
      "86 : conv_pw_12, <keras.layers.convolutional.Conv2D object at 0x7f882ffc4ba8>\n",
      "87 : conv_pw_12_bn, <keras.layers.normalization.BatchNormalization object at 0x7f882ffc4cf8>\n",
      "88 : conv_pw_12_relu, <keras.layers.core.Activation object at 0x7f882ffc4e48>\n",
      "89 : conv_pad_13, <keras.layers.convolutional.ZeroPadding2D object at 0x7f882ffc4e80>\n",
      "90 : conv_dw_13, <keras.applications.mobilenet.DepthwiseConv2D object at 0x7f882ffc4ef0>\n",
      "91 : conv_dw_13_bn, <keras.layers.normalization.BatchNormalization object at 0x7f883003efd0>\n",
      "92 : conv_dw_13_relu, <keras.layers.core.Activation object at 0x7f882ffcc278>\n",
      "93 : conv_pw_13, <keras.layers.convolutional.Conv2D object at 0x7f882ffcc2b0>\n",
      "94 : conv_pw_13_bn, <keras.layers.normalization.BatchNormalization object at 0x7f882ffcc400>\n",
      "95 : conv_pw_13_relu, <keras.layers.core.Activation object at 0x7f882ffcc550>\n",
      "96 : global_average_pooling2d_1, <keras.layers.pooling.GlobalAveragePooling2D object at 0x7f882ffcc588>\n",
      "97 : dense_1, <keras.layers.core.Dense object at 0x7f882ffcc5f8>\n",
      "98 : dense_1__activation__, <keras.layers.core.Activation object at 0x7f882e0e4550>\n"
     ]
    }
   ],
   "source": [
    "scale = 1./255\n",
    "coreml_model = coremltools.converters.keras.convert(model,\n",
    "                                                    input_names = 'image',\n",
    "                                                    output_names = 'output',\n",
    "                                                    image_input_names = 'image',\n",
    "                                                    image_scale = scale,\n",
    "                                                    red_bias = -123.68 * scale,\n",
    "                                                    green_bias = -116.779 * scale,\n",
    "                                                    blue_bias = -103.939 * scale,\n",
    "                                                    class_labels=labels)\n",
    "\n",
    "coreml_model.author = 'Nidhin Pattaniyil'\n",
    "coreml_model.license = 'MIT'\n",
    "coreml_model.short_description = 'Model to classify 120 dog breed'\n",
    "coreml_model.input_description['image'] = 'Images from camera in CVPixelBuffer'\n",
    "coreml_model.output_description['output'] = 'Predicted dog breed '\n",
    "\n",
    "coreml_model.save('model.mlmodel')"
   ]
  },
  {
   "cell_type": "code",
   "execution_count": null,
   "metadata": {},
   "outputs": [],
   "source": []
  },
  {
   "cell_type": "code",
   "execution_count": null,
   "metadata": {},
   "outputs": [],
   "source": []
  },
  {
   "cell_type": "code",
   "execution_count": null,
   "metadata": {},
   "outputs": [],
   "source": []
  },
  {
   "cell_type": "code",
   "execution_count": null,
   "metadata": {},
   "outputs": [],
   "source": []
  },
  {
   "cell_type": "code",
   "execution_count": null,
   "metadata": {},
   "outputs": [],
   "source": []
  },
  {
   "cell_type": "code",
   "execution_count": null,
   "metadata": {},
   "outputs": [],
   "source": []
  },
  {
   "cell_type": "code",
   "execution_count": null,
   "metadata": {},
   "outputs": [],
   "source": []
  },
  {
   "cell_type": "code",
   "execution_count": null,
   "metadata": {},
   "outputs": [],
   "source": []
  },
  {
   "cell_type": "code",
   "execution_count": null,
   "metadata": {
    "ExecuteTime": {
     "end_time": "2018-07-08T16:09:32.234284Z",
     "start_time": "2018-07-08T16:09:32.230595Z"
    }
   },
   "outputs": [],
   "source": []
  },
  {
   "cell_type": "code",
   "execution_count": null,
   "metadata": {},
   "outputs": [],
   "source": []
  },
  {
   "cell_type": "code",
   "execution_count": 74,
   "metadata": {
    "ExecuteTime": {
     "end_time": "2018-07-20T20:51:45.553828Z",
     "start_time": "2018-07-20T20:51:45.550340Z"
    }
   },
   "outputs": [],
   "source": [
    "from tensorflow.python.keras import Sequential\n",
    "from tensorflow.python.keras import models\n",
    "from tensorflow.python.keras import layers\n"
   ]
  },
  {
   "cell_type": "code",
   "execution_count": 75,
   "metadata": {
    "ExecuteTime": {
     "end_time": "2018-07-20T20:51:54.417872Z",
     "start_time": "2018-07-20T20:51:46.687093Z"
    }
   },
   "outputs": [
    {
     "name": "stdout",
     "output_type": "stream",
     "text": [
      "INFO:tensorflow:Using the Keras model provided.\n"
     ]
    },
    {
     "name": "stderr",
     "output_type": "stream",
     "text": [
      "INFO:tensorflow:Using the Keras model provided.\n"
     ]
    },
    {
     "name": "stdout",
     "output_type": "stream",
     "text": [
      "INFO:tensorflow:Using default config.\n"
     ]
    },
    {
     "name": "stderr",
     "output_type": "stream",
     "text": [
      "INFO:tensorflow:Using default config.\n"
     ]
    },
    {
     "name": "stdout",
     "output_type": "stream",
     "text": [
      "WARNING:tensorflow:Using temporary folder as model directory: /tmp/tmph8drx66f\n"
     ]
    },
    {
     "name": "stderr",
     "output_type": "stream",
     "text": [
      "WARNING:tensorflow:Using temporary folder as model directory: /tmp/tmph8drx66f\n"
     ]
    },
    {
     "name": "stdout",
     "output_type": "stream",
     "text": [
      "INFO:tensorflow:Using config: {'_model_dir': '/tmp/tmph8drx66f', '_tf_random_seed': None, '_save_summary_steps': 100, '_save_checkpoints_steps': None, '_save_checkpoints_secs': 600, '_session_config': None, '_keep_checkpoint_max': 5, '_keep_checkpoint_every_n_hours': 10000, '_log_step_count_steps': 100, '_train_distribute': None, '_service': None, '_cluster_spec': <tensorflow.python.training.server_lib.ClusterSpec object at 0x7f882c4c19b0>, '_task_type': 'worker', '_task_id': 0, '_global_id_in_cluster': 0, '_master': '', '_evaluation_master': '', '_is_chief': True, '_num_ps_replicas': 0, '_num_worker_replicas': 1}\n"
     ]
    },
    {
     "name": "stderr",
     "output_type": "stream",
     "text": [
      "INFO:tensorflow:Using config: {'_model_dir': '/tmp/tmph8drx66f', '_tf_random_seed': None, '_save_summary_steps': 100, '_save_checkpoints_steps': None, '_save_checkpoints_secs': 600, '_session_config': None, '_keep_checkpoint_max': 5, '_keep_checkpoint_every_n_hours': 10000, '_log_step_count_steps': 100, '_train_distribute': None, '_service': None, '_cluster_spec': <tensorflow.python.training.server_lib.ClusterSpec object at 0x7f882c4c19b0>, '_task_type': 'worker', '_task_id': 0, '_global_id_in_cluster': 0, '_master': '', '_evaluation_master': '', '_is_chief': True, '_num_ps_replicas': 0, '_num_worker_replicas': 1}\n"
     ]
    }
   ],
   "source": [
    "import tensorflow as tf\n",
    "from tensorflow.python.keras import backend as K\n",
    "from tensorflow.python.keras.utils import CustomObjectScope\n",
    "def relu6(x):\n",
    "    return K.relu(x, max_value=6)\n",
    "with CustomObjectScope({'relu6': relu6}):\n",
    "    keras_mobilenet= tf.keras.models.load_model(filepath='dog_breed.h5')\n",
    "\n",
    "    mobilenet_estimator = tf.keras.estimator.model_to_estimator(keras_model=keras_mobilenet,  custom_objects={'relu6': relu6})"
   ]
  },
  {
   "cell_type": "code",
   "execution_count": null,
   "metadata": {
    "ExecuteTime": {
     "end_time": "2018-07-08T13:58:21.796858Z",
     "start_time": "2018-07-08T13:58:21.768322Z"
    }
   },
   "outputs": [],
   "source": []
  },
  {
   "cell_type": "code",
   "execution_count": null,
   "metadata": {
    "ExecuteTime": {
     "end_time": "2018-07-20T20:39:46.953263Z",
     "start_time": "2018-07-20T20:38:26.637Z"
    }
   },
   "outputs": [],
   "source": [
    "predict_input_fn = tf.estimator.inputs.numpy_input_fn(\n",
    "  x={\"input_1\": preprocess_input(image.img_to_array(img))[None,:,:,:]},\n",
    "  num_epochs=1,\n",
    "  shuffle=False)"
   ]
  },
  {
   "cell_type": "code",
   "execution_count": null,
   "metadata": {
    "ExecuteTime": {
     "end_time": "2018-07-20T20:39:46.954433Z",
     "start_time": "2018-07-20T20:38:26.639Z"
    },
    "scrolled": true
   },
   "outputs": [],
   "source": [
    "predictions = list(mobilenet_estimator.predict(input_fn=predict_input_fn))\n",
    "#predicted_classes = [p[\"classes\"] for p in predictions]"
   ]
  },
  {
   "cell_type": "code",
   "execution_count": null,
   "metadata": {
    "ExecuteTime": {
     "end_time": "2018-07-20T20:39:46.955377Z",
     "start_time": "2018-07-20T20:38:26.641Z"
    }
   },
   "outputs": [],
   "source": [
    "preds= predictions[0]['dense_1']\n",
    "get_top_n_predictions(preds=preds,labels=labels)"
   ]
  },
  {
   "cell_type": "code",
   "execution_count": null,
   "metadata": {
    "ExecuteTime": {
     "end_time": "2018-07-20T20:39:46.956357Z",
     "start_time": "2018-07-20T20:38:26.643Z"
    }
   },
   "outputs": [],
   "source": [
    "predictions = list(mobilenet_estimator.predict(input_fn=predict_input_fn))\n",
    "preds= predictions[0]['dense_1']\n",
    "get_top_n_predictions(preds=preds,labels=labels)"
   ]
  },
  {
   "cell_type": "code",
   "execution_count": null,
   "metadata": {},
   "outputs": [],
   "source": []
  },
  {
   "cell_type": "code",
   "execution_count": null,
   "metadata": {},
   "outputs": [],
   "source": []
  },
  {
   "cell_type": "code",
   "execution_count": null,
   "metadata": {
    "ExecuteTime": {
     "end_time": "2018-07-20T20:39:46.957299Z",
     "start_time": "2018-07-20T20:38:26.646Z"
    }
   },
   "outputs": [],
   "source": [
    "def serving_input_receiver_fn():\n",
    "    inputs = {\n",
    "        'input_1': tf.placeholder(tf.float32, [None, 224, 224, 3]),\n",
    "      }\n",
    "    return tf.estimator.export.ServingInputReceiver(inputs)\n"
   ]
  },
  {
   "cell_type": "code",
   "execution_count": null,
   "metadata": {},
   "outputs": [],
   "source": []
  },
  {
   "cell_type": "code",
   "execution_count": null,
   "metadata": {
    "ExecuteTime": {
     "end_time": "2018-07-20T20:39:46.958285Z",
     "start_time": "2018-07-20T20:38:26.648Z"
    }
   },
   "outputs": [],
   "source": [
    "?mobilenet_estimator.export_savedmodel"
   ]
  },
  {
   "cell_type": "code",
   "execution_count": null,
   "metadata": {
    "ExecuteTime": {
     "end_time": "2018-07-20T20:39:46.959279Z",
     "start_time": "2018-07-20T20:38:26.650Z"
    }
   },
   "outputs": [],
   "source": [
    "!rm -rf tmp"
   ]
  },
  {
   "cell_type": "code",
   "execution_count": null,
   "metadata": {
    "ExecuteTime": {
     "end_time": "2018-07-20T20:39:46.960189Z",
     "start_time": "2018-07-20T20:38:26.653Z"
    }
   },
   "outputs": [],
   "source": [
    "?mobilenet_estimator.export_savedmodel"
   ]
  },
  {
   "cell_type": "code",
   "execution_count": null,
   "metadata": {
    "ExecuteTime": {
     "end_time": "2018-07-20T20:39:46.961137Z",
     "start_time": "2018-07-20T20:38:26.654Z"
    }
   },
   "outputs": [],
   "source": [
    "mobilenet_estimator.export_savedmodel(export_dir_base='tmp'\n",
    "                                      ,serving_input_receiver_fn=serving_input_receiver_fn)"
   ]
  },
  {
   "cell_type": "code",
   "execution_count": null,
   "metadata": {
    "ExecuteTime": {
     "end_time": "2018-07-20T20:39:46.962002Z",
     "start_time": "2018-07-20T20:38:26.656Z"
    }
   },
   "outputs": [],
   "source": [
    "?tf.estimator.export.ServingInputReceiver"
   ]
  },
  {
   "cell_type": "code",
   "execution_count": null,
   "metadata": {
    "ExecuteTime": {
     "end_time": "2018-07-20T20:39:46.962842Z",
     "start_time": "2018-07-20T20:38:26.657Z"
    }
   },
   "outputs": [],
   "source": [
    "?mobilenet_estimator.export_savedmodel"
   ]
  },
  {
   "cell_type": "code",
   "execution_count": null,
   "metadata": {
    "ExecuteTime": {
     "end_time": "2018-07-20T20:39:46.963819Z",
     "start_time": "2018-07-20T20:38:26.659Z"
    }
   },
   "outputs": [],
   "source": [
    "import tensorflow as tf\n",
    "from tensorflow.keras.applications import mobilenet"
   ]
  },
  {
   "cell_type": "code",
   "execution_count": null,
   "metadata": {
    "ExecuteTime": {
     "end_time": "2018-07-08T20:55:52.618672Z",
     "start_time": "2018-07-08T20:55:52.506970Z"
    }
   },
   "outputs": [],
   "source": []
  },
  {
   "cell_type": "code",
   "execution_count": null,
   "metadata": {
    "ExecuteTime": {
     "end_time": "2018-07-20T20:39:46.964730Z",
     "start_time": "2018-07-20T20:38:26.662Z"
    }
   },
   "outputs": [],
   "source": [
    "from tensorflow.python.keras.utils.generic_utils import CustomObjectScope\n",
    "from tensorflow.python.keras.applications import mobilenet\n",
    "from tensorflow.python.keras.models import load_model\n",
    "with CustomObjectScope({'relu6': mobilenet.relu6,'DepthwiseConv2D': mobilenet.DepthwiseConv2D}):\n",
    "    model = load_model('dog_breed.h5')\n",
    "    converter = tf.contrib.lite.TocoConverter.from_keras_model_file(\"dog_breed.h5\")\n",
    "    \n",
    "    tflite_model = converter.convert()\n",
    "    open(\"dog_breed.tflite\", \"wb\").write(tflite_model)"
   ]
  },
  {
   "cell_type": "code",
   "execution_count": null,
   "metadata": {},
   "outputs": [],
   "source": []
  },
  {
   "cell_type": "code",
   "execution_count": null,
   "metadata": {},
   "outputs": [],
   "source": []
  },
  {
   "cell_type": "code",
   "execution_count": null,
   "metadata": {},
   "outputs": [],
   "source": []
  },
  {
   "cell_type": "code",
   "execution_count": null,
   "metadata": {},
   "outputs": [],
   "source": []
  },
  {
   "cell_type": "code",
   "execution_count": null,
   "metadata": {},
   "outputs": [],
   "source": []
  }
 ],
 "metadata": {
  "kernelspec": {
   "display_name": "Python [conda env:fastai]",
   "language": "python",
   "name": "conda-env-fastai-py"
  },
  "language_info": {
   "codemirror_mode": {
    "name": "ipython",
    "version": 3
   },
   "file_extension": ".py",
   "mimetype": "text/x-python",
   "name": "python",
   "nbconvert_exporter": "python",
   "pygments_lexer": "ipython3",
   "version": "3.6.5"
  }
 },
 "nbformat": 4,
 "nbformat_minor": 2
}
