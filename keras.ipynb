{
 "cells": [
  {
   "cell_type": "markdown",
   "metadata": {},
   "source": [
    "# Install dependencies"
   ]
  },
  {
   "cell_type": "code",
   "execution_count": 6,
   "metadata": {
    "ExecuteTime": {
     "end_time": "2018-07-20T11:24:58.934178Z",
     "start_time": "2018-07-20T11:24:58.930575Z"
    }
   },
   "outputs": [
    {
     "name": "stdout",
     "output_type": "stream",
     "text": [
      "Collecting pandas\n",
      "\u001b[?25l  Downloading https://files.pythonhosted.org/packages/e1/d8/feeb346d41f181e83fba45224ab14a8d8af019b48af742e047f3845d8cff/pandas-0.23.4-cp36-cp36m-manylinux1_x86_64.whl (8.9MB)\n",
      "\u001b[K    100% |████████████████████████████████| 8.9MB 4.3MB/s eta 0:00:01\n",
      "\u001b[?25hRequirement already satisfied: numpy>=1.9.0 in /home/alexandre.saez/anaconda3/envs/tf_p36/lib/python3.6/site-packages (from pandas) (1.15.1)\n",
      "Collecting pytz>=2011k (from pandas)\n",
      "\u001b[?25l  Downloading https://files.pythonhosted.org/packages/30/4e/27c34b62430286c6d59177a0842ed90dc789ce5d1ed740887653b898779a/pytz-2018.5-py2.py3-none-any.whl (510kB)\n",
      "\u001b[K    100% |████████████████████████████████| 512kB 14.3MB/s ta 0:00:01\n",
      "\u001b[?25hRequirement already satisfied: python-dateutil>=2.5.0 in /home/alexandre.saez/anaconda3/envs/tf_p36/lib/python3.6/site-packages (from pandas) (2.7.3)\n",
      "Requirement already satisfied: six>=1.5 in /home/alexandre.saez/anaconda3/envs/tf_p36/lib/python3.6/site-packages (from python-dateutil>=2.5.0->pandas) (1.11.0)\n",
      "Installing collected packages: pytz, pandas\n",
      "Successfully installed pandas-0.23.4 pytz-2018.5\n",
      "\u001b[33mYou are using pip version 10.0.1, however version 18.0 is available.\n",
      "You should consider upgrading via the 'pip install --upgrade pip' command.\u001b[0m\n"
     ]
    }
   ],
   "source": [
    "# !pip install Keras==2.1.6 pydot tensorflow-gpu==1.8.0 \n",
    "# !sudo apt-get install graphviz -y"
   ]
  },
  {
   "cell_type": "markdown",
   "metadata": {},
   "source": [
    "# Imports"
   ]
  },
  {
   "cell_type": "code",
   "execution_count": 1,
   "metadata": {
    "ExecuteTime": {
     "end_time": "2018-07-20T19:56:09.791461Z",
     "start_time": "2018-07-20T19:56:07.927630Z"
    }
   },
   "outputs": [
    {
     "name": "stderr",
     "output_type": "stream",
     "text": [
      "Using TensorFlow backend.\n"
     ]
    }
   ],
   "source": [
    "from keras.utils.vis_utils import model_to_dot\n",
    "import pydot\n",
    "from IPython.display import SVG\n",
    "import json\n",
    "import numpy as np\n",
    "import keras\n",
    "from keras import backend as K\n",
    "from keras.layers.core import Dense, Activation\n",
    "from keras.optimizers import Adam\n",
    "from keras.metrics import categorical_crossentropy\n",
    "from keras.preprocessing.image import ImageDataGenerator\n",
    "from keras.preprocessing import image\n",
    "from keras.models import Model\n",
    "from keras.applications import imagenet_utils\n",
    "from keras.utils import multi_gpu_model\n",
    "from keras.optimizers import Adam, SGD, RMSprop\n",
    "import tensorflow as tf\n",
    "import pandas as pd\n",
    "from sklearn.metrics import confusion_matrix\n",
    "import itertools\n",
    "import shutil\n",
    "import os\n",
    "import matplotlib.pyplot as plt\n",
    "\n",
    "%matplotlib inline"
   ]
  },
  {
   "cell_type": "markdown",
   "metadata": {},
   "source": [
    "# Setup"
   ]
  },
  {
   "cell_type": "code",
   "execution_count": 3,
   "metadata": {
    "ExecuteTime": {
     "end_time": "2018-07-20T19:56:13.995029Z",
     "start_time": "2018-07-20T19:56:13.877740Z"
    }
   },
   "outputs": [
    {
     "name": "stdout",
     "output_type": "stream",
     "text": [
      "apple_pie\t    eggs_benedict\t     onion_rings\r\n",
      "baby_back_ribs\t    escargots\t\t     oysters\r\n",
      "baklava\t\t    falafel\t\t     pad_thai\r\n",
      "beef_carpaccio\t    filet_mignon\t     paella\r\n",
      "beef_tartare\t    fish_and_chips\t     pancakes\r\n",
      "beet_salad\t    foie_gras\t\t     panna_cotta\r\n",
      "beignets\t    french_fries\t     peking_duck\r\n",
      "bibimbap\t    french_onion_soup\t     pho\r\n",
      "bread_pudding\t    french_toast\t     pizza\r\n",
      "breakfast_burrito   fried_calamari\t     pork_chop\r\n",
      "bruschetta\t    fried_rice\t\t     poutine\r\n",
      "caesar_salad\t    frozen_yogurt\t     prime_rib\r\n",
      "cannoli\t\t    garlic_bread\t     pulled_pork_sandwich\r\n",
      "caprese_salad\t    gnocchi\t\t     ramen\r\n",
      "carrot_cake\t    greek_salad\t\t     ravioli\r\n",
      "ceviche\t\t    grilled_cheese_sandwich  red_velvet_cake\r\n",
      "cheesecake\t    grilled_salmon\t     risotto\r\n",
      "cheese_plate\t    guacamole\t\t     samosa\r\n",
      "chicken_curry\t    gyoza\t\t     sashimi\r\n",
      "chicken_quesadilla  hamburger\t\t     scallops\r\n",
      "chicken_wings\t    hot_and_sour_soup\t     seaweed_salad\r\n",
      "chocolate_cake\t    hot_dog\t\t     shrimp_and_grits\r\n",
      "chocolate_mousse    huevos_rancheros\t     spaghetti_bolognese\r\n",
      "churros\t\t    hummus\t\t     spaghetti_carbonara\r\n",
      "clam_chowder\t    ice_cream\t\t     spring_rolls\r\n",
      "club_sandwich\t    lasagna\t\t     steak\r\n",
      "crab_cakes\t    lobster_bisque\t     strawberry_shortcake\r\n",
      "creme_brulee\t    lobster_roll_sandwich    sushi\r\n",
      "croque_madame\t    macaroni_and_cheese      tacos\r\n",
      "cup_cakes\t    macarons\t\t     takoyaki\r\n",
      "deviled_eggs\t    miso_soup\t\t     tiramisu\r\n",
      "donuts\t\t    mussels\t\t     tuna_tartare\r\n",
      "dumplings\t    nachos\t\t     waffles\r\n",
      "edamame\t\t    omelette\r\n"
     ]
    }
   ],
   "source": [
    "!ls data/images"
   ]
  },
  {
   "cell_type": "code",
   "execution_count": 14,
   "metadata": {
    "ExecuteTime": {
     "end_time": "2018-07-20T19:57:49.723344Z",
     "start_time": "2018-07-20T19:57:49.719583Z"
    }
   },
   "outputs": [],
   "source": [
    "NUM_GPUS = 1\n",
    "train_folder = \"data/train\"\n",
    "valid_folder = \"data/valid\""
   ]
  },
  {
   "cell_type": "code",
   "execution_count": 15,
   "metadata": {
    "ExecuteTime": {
     "end_time": "2018-07-20T19:57:50.944952Z",
     "start_time": "2018-07-20T19:57:50.830523Z"
    }
   },
   "outputs": [
    {
     "name": "stdout",
     "output_type": "stream",
     "text": [
      "images\r\n"
     ]
    }
   ],
   "source": [
    "!ls data/"
   ]
  },
  {
   "cell_type": "code",
   "execution_count": 16,
   "metadata": {
    "ExecuteTime": {
     "end_time": "2018-07-20T19:57:52.178401Z",
     "start_time": "2018-07-20T19:57:52.174950Z"
    }
   },
   "outputs": [],
   "source": [
    "IMAGE_SIZE=224 \n",
    "BATCH_SIZE=64 # number of images seen by model at once"
   ]
  },
  {
   "cell_type": "code",
   "execution_count": 4,
   "metadata": {
    "ExecuteTime": {
     "end_time": "2018-07-20T19:57:53.647790Z",
     "start_time": "2018-07-20T19:57:53.517233Z"
    }
   },
   "outputs": [
    {
     "name": "stdout",
     "output_type": "stream",
     "text": [
      "ls: cannot access 'data/train/': No such file or directory\r\n"
     ]
    }
   ],
   "source": [
    "!ls data/train/ | head"
   ]
  },
  {
   "cell_type": "code",
   "execution_count": null,
   "metadata": {
    "ExecuteTime": {
     "end_time": "2018-07-20T19:57:55.268112Z",
     "start_time": "2018-07-20T19:57:54.295942Z"
    }
   },
   "outputs": [],
   "source": [
    "train_generator = ImageDataGenerator(preprocessing_function=keras.applications.mobilenet.preprocess_input\n",
    "                                     ,rotation_range=45\n",
    "                                     ,width_shift_range=0.2\n",
    "                                     ,height_shift_range=0.2\n",
    "                                     ,shear_range=0.2\n",
    "                                     ,zoom_range=0.25\n",
    "                                     ,horizontal_flip=True\n",
    "                                     ,fill_mode='nearest'\n",
    "                                  )\n",
    "\n",
    "train_batches = train_generator.flow_from_directory(\n",
    "    train_folder, target_size=(IMAGE_SIZE,IMAGE_SIZE), batch_size=BATCH_SIZE,shuffle=True, seed=13,class_mode='categorical')\n",
    "\n",
    "\n",
    "\n",
    "valid_generator =  ImageDataGenerator(preprocessing_function=keras.applications.mobilenet.preprocess_input)\n",
    "\n",
    "\n",
    "valid_batches = valid_generator.flow_from_directory(\n",
    "    valid_folder, target_size=(IMAGE_SIZE,IMAGE_SIZE), batch_size=BATCH_SIZE)"
   ]
  },
  {
   "cell_type": "code",
   "execution_count": null,
   "metadata": {
    "ExecuteTime": {
     "end_time": "2018-07-20T19:57:58.202088Z",
     "start_time": "2018-07-20T19:57:58.199075Z"
    }
   },
   "outputs": [],
   "source": [
    "NUM_CLASSES = train_batches.num_classes"
   ]
  },
  {
   "cell_type": "code",
   "execution_count": null,
   "metadata": {
    "ExecuteTime": {
     "end_time": "2018-07-20T19:59:10.994773Z",
     "start_time": "2018-07-20T19:58:53.916446Z"
    }
   },
   "outputs": [],
   "source": [
    "base_model = keras.applications.mobilenet.MobileNet()"
   ]
  },
  {
   "cell_type": "code",
   "execution_count": null,
   "metadata": {
    "ExecuteTime": {
     "end_time": "2018-07-20T19:59:26.403871Z",
     "start_time": "2018-07-20T19:59:26.345766Z"
    }
   },
   "outputs": [],
   "source": [
    "?keras.applications.mobilenet.MobileNet()"
   ]
  },
  {
   "cell_type": "code",
   "execution_count": null,
   "metadata": {
    "ExecuteTime": {
     "end_time": "2018-07-20T19:59:37.331481Z",
     "start_time": "2018-07-20T19:59:37.296451Z"
    }
   },
   "outputs": [],
   "source": [
    "base_model.summary()"
   ]
  },
  {
   "cell_type": "code",
   "execution_count": null,
   "metadata": {
    "ExecuteTime": {
     "end_time": "2018-07-20T19:59:42.696788Z",
     "start_time": "2018-07-20T19:59:41.701599Z"
    },
    "scrolled": true
   },
   "outputs": [],
   "source": [
    "SVG(model_to_dot(base_model,show_shapes=True, show_layer_names=True).create(prog='dot', format='svg'))"
   ]
  },
  {
   "cell_type": "code",
   "execution_count": null,
   "metadata": {
    "ExecuteTime": {
     "end_time": "2018-07-20T20:00:16.479562Z",
     "start_time": "2018-07-20T20:00:16.474765Z"
    }
   },
   "outputs": [],
   "source": [
    "base_model.layers[-6].output"
   ]
  },
  {
   "cell_type": "code",
   "execution_count": null,
   "metadata": {
    "ExecuteTime": {
     "end_time": "2018-07-20T20:00:17.641017Z",
     "start_time": "2018-07-20T20:00:17.620295Z"
    }
   },
   "outputs": [],
   "source": [
    "x = base_model.layers[-6].output\n",
    "predictions = Dense(NUM_CLASSES, activation='softmax')(x)"
   ]
  },
  {
   "cell_type": "code",
   "execution_count": null,
   "metadata": {
    "ExecuteTime": {
     "end_time": "2018-07-20T20:00:18.387245Z",
     "start_time": "2018-07-20T20:00:18.380814Z"
    }
   },
   "outputs": [],
   "source": [
    "model = Model(inputs=base_model.input, outputs=predictions)\n"
   ]
  },
  {
   "cell_type": "code",
   "execution_count": null,
   "metadata": {
    "ExecuteTime": {
     "end_time": "2018-07-20T20:00:19.315433Z",
     "start_time": "2018-07-20T20:00:19.288530Z"
    }
   },
   "outputs": [],
   "source": [
    "model.summary()"
   ]
  },
  {
   "cell_type": "code",
   "execution_count": null,
   "metadata": {
    "ExecuteTime": {
     "end_time": "2018-07-20T20:00:22.733799Z",
     "start_time": "2018-07-20T20:00:22.730372Z"
    }
   },
   "outputs": [],
   "source": [
    "for layer in base_model.layers:\n",
    "    layer.trainable = False"
   ]
  },
  {
   "cell_type": "code",
   "execution_count": null,
   "metadata": {
    "ExecuteTime": {
     "end_time": "2018-07-20T20:00:24.103535Z",
     "start_time": "2018-07-20T20:00:23.745122Z"
    }
   },
   "outputs": [],
   "source": [
    "SVG(model_to_dot(model,show_shapes=True, show_layer_names=True).create(prog='dot', format='svg'))"
   ]
  },
  {
   "cell_type": "code",
   "execution_count": null,
   "metadata": {
    "ExecuteTime": {
     "end_time": "2018-07-20T20:02:33.234973Z",
     "start_time": "2018-07-20T20:02:33.206804Z"
    }
   },
   "outputs": [],
   "source": [
    "model.summary()"
   ]
  },
  {
   "cell_type": "code",
   "execution_count": null,
   "metadata": {
    "ExecuteTime": {
     "end_time": "2018-07-20T20:02:44.062051Z",
     "start_time": "2018-07-20T20:02:44.046274Z"
    }
   },
   "outputs": [],
   "source": [
    "optimizer = RMSprop(lr=0.001, rho=0.9)\n",
    "\n",
    "#optimizer = Adam(lr=0.001)\n",
    "\n",
    "# model.compile(Adam(lr=.0001), loss='categorical_crossentropy', metrics=['accuracy'])\n",
    "\n",
    "#model.compile(Adam(lr=.001), loss='categorical_crossentropy', metrics=['accuracy'])"
   ]
  },
  {
   "cell_type": "code",
   "execution_count": null,
   "metadata": {},
   "outputs": [],
   "source": []
  },
  {
   "cell_type": "code",
   "execution_count": null,
   "metadata": {
    "ExecuteTime": {
     "end_time": "2018-07-20T20:02:45.145785Z",
     "start_time": "2018-07-20T20:02:45.123937Z"
    }
   },
   "outputs": [],
   "source": [
    "?multi_gpu_model"
   ]
  },
  {
   "cell_type": "code",
   "execution_count": null,
   "metadata": {},
   "outputs": [],
   "source": []
  },
  {
   "cell_type": "code",
   "execution_count": null,
   "metadata": {
    "ExecuteTime": {
     "end_time": "2018-07-20T20:02:49.837188Z",
     "start_time": "2018-07-20T20:02:49.602293Z"
    }
   },
   "outputs": [],
   "source": [
    "try:\n",
    "    model = multi_gpu_model(model, gpus=NUM_GPUS)\n",
    "except:\n",
    "    pass\n",
    "model.compile(optimizer=optimizer, loss='categorical_crossentropy',\n",
    "              metrics=['accuracy'])"
   ]
  },
  {
   "cell_type": "code",
   "execution_count": null,
   "metadata": {
    "ExecuteTime": {
     "end_time": "2018-07-20T20:02:51.502099Z",
     "start_time": "2018-07-20T20:02:51.499004Z"
    }
   },
   "outputs": [],
   "source": [
    "steps_per_epoch = train_batches.n//BATCH_SIZE\n",
    "validation_steps =valid_batches.n // BATCH_SIZE\n",
    "\n",
    "# steps_per_epoch = 10\n",
    "# validation_steps = 3"
   ]
  },
  {
   "cell_type": "code",
   "execution_count": null,
   "metadata": {
    "ExecuteTime": {
     "end_time": "2018-07-20T20:02:52.408188Z",
     "start_time": "2018-07-20T20:02:52.278736Z"
    }
   },
   "outputs": [],
   "source": [
    "!rm -rf logs"
   ]
  },
  {
   "cell_type": "code",
   "execution_count": null,
   "metadata": {
    "ExecuteTime": {
     "end_time": "2018-07-20T20:03:01.060432Z",
     "start_time": "2018-07-20T20:02:53.031975Z"
    }
   },
   "outputs": [],
   "source": [
    "reduce_lr = keras.callbacks.ReduceLROnPlateau(monitor='val_loss', factor=0.1)\n",
    "\n",
    "tb = keras.callbacks.TensorBoard(log_dir=f'{PATH}/logs', write_graph=True, write_images=True)\n"
   ]
  },
  {
   "cell_type": "code",
   "execution_count": null,
   "metadata": {
    "ExecuteTime": {
     "end_time": "2018-07-20T20:07:57.205936Z",
     "start_time": "2018-07-20T20:03:01.062386Z"
    }
   },
   "outputs": [],
   "source": [
    "model.fit_generator(train_batches, steps_per_epoch=steps_per_epoch \n",
    "                    , validation_data=valid_batches\n",
    "                    ,  validation_steps=validation_steps, verbose=2,workers=4 \n",
    "                    , use_multiprocessing=True\n",
    "                    , epochs=3\n",
    "                   # , callbacks = [tb]\n",
    "                   # , callbacks = [reduce_lr, tb]\n",
    "                   )"
   ]
  },
  {
   "cell_type": "code",
   "execution_count": null,
   "metadata": {
    "ExecuteTime": {
     "end_time": "2018-07-20T20:07:57.217192Z",
     "start_time": "2018-07-20T20:07:57.210044Z"
    }
   },
   "outputs": [],
   "source": [
    "train_batches.class_indices.keys()"
   ]
  },
  {
   "cell_type": "code",
   "execution_count": null,
   "metadata": {
    "ExecuteTime": {
     "end_time": "2018-07-20T20:08:01.459693Z",
     "start_time": "2018-07-20T20:08:01.454174Z"
    }
   },
   "outputs": [],
   "source": [
    "train_batches.class_indices"
   ]
  },
  {
   "cell_type": "code",
   "execution_count": null,
   "metadata": {
    "ExecuteTime": {
     "end_time": "2018-07-20T20:08:06.338336Z",
     "start_time": "2018-07-20T20:08:06.335227Z"
    }
   },
   "outputs": [],
   "source": [
    "MODEL_SAVE_DIR = f'model/{DATASET_NAME}'"
   ]
  },
  {
   "cell_type": "code",
   "execution_count": null,
   "metadata": {
    "ExecuteTime": {
     "end_time": "2018-07-20T20:08:07.579121Z",
     "start_time": "2018-07-20T20:08:07.416637Z"
    }
   },
   "outputs": [],
   "source": [
    "!mkdir -p {MODEL_SAVE_DIR}"
   ]
  },
  {
   "cell_type": "code",
   "execution_count": null,
   "metadata": {
    "ExecuteTime": {
     "end_time": "2018-07-20T20:08:08.552289Z",
     "start_time": "2018-07-20T20:08:08.548773Z"
    }
   },
   "outputs": [],
   "source": [
    "shutil.rmtree(MODEL_SAVE_DIR)\n",
    "os.makedirs(MODEL_SAVE_DIR)"
   ]
  },
  {
   "cell_type": "code",
   "execution_count": null,
   "metadata": {
    "ExecuteTime": {
     "end_time": "2018-07-20T20:08:11.780904Z",
     "start_time": "2018-07-20T20:08:10.577094Z"
    }
   },
   "outputs": [],
   "source": [
    "model.save(f'{MODEL_SAVE_DIR}/model.h5')"
   ]
  },
  {
   "cell_type": "code",
   "execution_count": null,
   "metadata": {
    "ExecuteTime": {
     "end_time": "2018-07-20T20:08:12.857972Z",
     "start_time": "2018-07-20T20:08:12.854483Z"
    }
   },
   "outputs": [],
   "source": [
    "with open(f'{MODEL_SAVE_DIR}/labels.txt', 'w') as file_handler:\n",
    "    for item in train_batches.class_indices.keys():\n",
    "        file_handler.write(\"{}\\n\".format(item))"
   ]
  },
  {
   "cell_type": "code",
   "execution_count": null,
   "metadata": {
    "ExecuteTime": {
     "end_time": "2018-07-20T20:08:13.577307Z",
     "start_time": "2018-07-20T20:08:13.574008Z"
    }
   },
   "outputs": [],
   "source": [
    "with open(f'{MODEL_SAVE_DIR}/labels.json', 'w') as outfile:\n",
    "    json.dump(train_batches.class_indices, outfile)"
   ]
  },
  {
   "cell_type": "code",
   "execution_count": null,
   "metadata": {},
   "outputs": [],
   "source": []
  },
  {
   "cell_type": "code",
   "execution_count": null,
   "metadata": {},
   "outputs": [],
   "source": []
  }
 ],
 "metadata": {
  "kernelspec": {
   "display_name": "Python 3",
   "language": "python",
   "name": "python3"
  },
  "language_info": {
   "codemirror_mode": {
    "name": "ipython",
    "version": 3
   },
   "file_extension": ".py",
   "mimetype": "text/x-python",
   "name": "python",
   "nbconvert_exporter": "python",
   "pygments_lexer": "ipython3",
   "version": "3.6.6"
  }
 },
 "nbformat": 4,
 "nbformat_minor": 2
}
