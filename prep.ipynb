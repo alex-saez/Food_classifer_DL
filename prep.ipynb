{
 "cells": [
  {
   "cell_type": "markdown",
   "metadata": {},
   "source": [
    "Data is located in gs://${GCS_BUCKET}/datasets.      \n",
    "There should be bird, dog_breed, food, fungus, leaf folder.\n",
    "\n",
    "The original zipped file is there.\n",
    "The processed folder is also there"
   ]
  },
  {
   "cell_type": "code",
   "execution_count": 5,
   "metadata": {
    "ExecuteTime": {
     "end_time": "2018-07-20T18:48:59.072362Z",
     "start_time": "2018-07-20T18:48:59.069342Z"
    }
   },
   "outputs": [],
   "source": [
    "GCS_BUCKET = \"np-training-public\"\n"
   ]
  },
  {
   "cell_type": "code",
   "execution_count": 6,
   "metadata": {
    "ExecuteTime": {
     "end_time": "2018-07-20T18:49:02.948862Z",
     "start_time": "2018-07-20T18:49:01.465206Z"
    }
   },
   "outputs": [
    {
     "name": "stdout",
     "output_type": "stream",
     "text": [
      "gs://np-training-public/datasets/bird/\r\n",
      "gs://np-training-public/datasets/dog_breed/\r\n",
      "gs://np-training-public/datasets/food/\r\n",
      "gs://np-training-public/datasets/fungus/\r\n",
      "gs://np-training-public/datasets/leaf/\r\n"
     ]
    }
   ],
   "source": [
    "!gsutil ls gs://{GCS_BUCKET}/datasets"
   ]
  },
  {
   "cell_type": "code",
   "execution_count": 3,
   "metadata": {
    "ExecuteTime": {
     "end_time": "2018-07-20T10:59:51.815825Z",
     "start_time": "2018-07-20T10:59:51.812820Z"
    }
   },
   "outputs": [],
   "source": [
    "#!mkdir -p data"
   ]
  },
  {
   "cell_type": "code",
   "execution_count": null,
   "metadata": {},
   "outputs": [],
   "source": []
  },
  {
   "cell_type": "markdown",
   "metadata": {},
   "source": [
    "# Download"
   ]
  },
  {
   "cell_type": "code",
   "execution_count": 8,
   "metadata": {
    "ExecuteTime": {
     "end_time": "2018-07-20T18:52:00.932699Z",
     "start_time": "2018-07-20T18:52:00.929509Z"
    }
   },
   "outputs": [],
   "source": [
    "import os"
   ]
  },
  {
   "cell_type": "code",
   "execution_count": 7,
   "metadata": {
    "ExecuteTime": {
     "end_time": "2018-07-20T18:50:27.127140Z",
     "start_time": "2018-07-20T18:49:27.329335Z"
    }
   },
   "outputs": [
    {
     "name": "stdout",
     "output_type": "stream",
     "text": [
      "Copying gs://np-training-public/datasets/food/food-101.tar.gz...\n",
      "\\ [1/1 files][  4.7 GiB/  4.7 GiB] 100% Done  94.7 MiB/s ETA 00:00:00           \n",
      "Operation completed over 1 objects/4.7 GiB.                                      \n"
     ]
    }
   ],
   "source": [
    "!gsutil -m cp -r  gs://{GCS_BUCKET}/datasets/food/* data/"
   ]
  },
  {
   "cell_type": "markdown",
   "metadata": {},
   "source": [
    "**Important: Choose a dataset you would like to work with**"
   ]
  },
  {
   "cell_type": "code",
   "execution_count": 9,
   "metadata": {
    "ExecuteTime": {
     "end_time": "2018-07-20T18:52:17.923944Z",
     "start_time": "2018-07-20T18:52:17.921064Z"
    }
   },
   "outputs": [],
   "source": [
    "# sorted by size of data\n",
    "# DATASET_NAME = \"dog_breed\"\n",
    "#DATASET_NAME = \"leaf\"\n",
    "DATASET_NAME = \"food\"\n",
    "#DATASET_NAME = \"bird\"\n",
    "#DATASET_NAME = \"fungus\"\n"
   ]
  },
  {
   "cell_type": "code",
   "execution_count": 10,
   "metadata": {
    "ExecuteTime": {
     "end_time": "2018-07-20T18:52:23.149891Z",
     "start_time": "2018-07-20T18:52:23.146788Z"
    }
   },
   "outputs": [],
   "source": [
    "DATASET_PATH= os.path.expanduser(f\"~/data/{DATASET_NAME}\")"
   ]
  },
  {
   "cell_type": "code",
   "execution_count": 11,
   "metadata": {
    "ExecuteTime": {
     "end_time": "2018-07-20T18:52:28.845661Z",
     "start_time": "2018-07-20T18:52:28.150228Z"
    }
   },
   "outputs": [
    {
     "name": "stdout",
     "output_type": "stream",
     "text": [
      "\u001b[0m\u001b[01;34mapple_pie\u001b[0m/           \u001b[01;34meggs_benedict\u001b[0m/            \u001b[01;34monion_rings\u001b[0m/\r\n",
      "\u001b[01;34mbaby_back_ribs\u001b[0m/      \u001b[01;34mescargots\u001b[0m/                \u001b[01;34moysters\u001b[0m/\r\n",
      "\u001b[01;34mbaklava\u001b[0m/             \u001b[01;34mfalafel\u001b[0m/                  \u001b[01;34mpad_thai\u001b[0m/\r\n",
      "\u001b[01;34mbeef_carpaccio\u001b[0m/      \u001b[01;34mfilet_mignon\u001b[0m/             \u001b[01;34mpaella\u001b[0m/\r\n",
      "\u001b[01;34mbeef_tartare\u001b[0m/        \u001b[01;34mfish_and_chips\u001b[0m/           \u001b[01;34mpancakes\u001b[0m/\r\n",
      "\u001b[01;34mbeet_salad\u001b[0m/          \u001b[01;34mfoie_gras\u001b[0m/                \u001b[01;34mpanna_cotta\u001b[0m/\r\n",
      "\u001b[01;34mbeignets\u001b[0m/            \u001b[01;34mfrench_fries\u001b[0m/             \u001b[01;34mpeking_duck\u001b[0m/\r\n",
      "\u001b[01;34mbibimbap\u001b[0m/            \u001b[01;34mfrench_onion_soup\u001b[0m/        \u001b[01;34mpho\u001b[0m/\r\n",
      "\u001b[01;34mbread_pudding\u001b[0m/       \u001b[01;34mfrench_toast\u001b[0m/             \u001b[01;34mpizza\u001b[0m/\r\n",
      "\u001b[01;34mbreakfast_burrito\u001b[0m/   \u001b[01;34mfried_calamari\u001b[0m/           \u001b[01;34mpork_chop\u001b[0m/\r\n",
      "\u001b[01;34mbruschetta\u001b[0m/          \u001b[01;34mfried_rice\u001b[0m/               \u001b[01;34mpoutine\u001b[0m/\r\n",
      "\u001b[01;34mcaesar_salad\u001b[0m/        \u001b[01;34mfrozen_yogurt\u001b[0m/            \u001b[01;34mprime_rib\u001b[0m/\r\n",
      "\u001b[01;34mcannoli\u001b[0m/             \u001b[01;34mgarlic_bread\u001b[0m/             \u001b[01;34mpulled_pork_sandwich\u001b[0m/\r\n",
      "\u001b[01;34mcaprese_salad\u001b[0m/       \u001b[01;34mgnocchi\u001b[0m/                  \u001b[01;34mramen\u001b[0m/\r\n",
      "\u001b[01;34mcarrot_cake\u001b[0m/         \u001b[01;34mgreek_salad\u001b[0m/              \u001b[01;34mravioli\u001b[0m/\r\n",
      "\u001b[01;34mceviche\u001b[0m/             \u001b[01;34mgrilled_cheese_sandwich\u001b[0m/  \u001b[01;34mred_velvet_cake\u001b[0m/\r\n",
      "\u001b[01;34mcheesecake\u001b[0m/          \u001b[01;34mgrilled_salmon\u001b[0m/           \u001b[01;34mrisotto\u001b[0m/\r\n",
      "\u001b[01;34mcheese_plate\u001b[0m/        \u001b[01;34mguacamole\u001b[0m/                \u001b[01;34msamosa\u001b[0m/\r\n",
      "\u001b[01;34mchicken_curry\u001b[0m/       \u001b[01;34mgyoza\u001b[0m/                    \u001b[01;34msashimi\u001b[0m/\r\n",
      "\u001b[01;34mchicken_quesadilla\u001b[0m/  \u001b[01;34mhamburger\u001b[0m/                \u001b[01;34mscallops\u001b[0m/\r\n",
      "\u001b[01;34mchicken_wings\u001b[0m/       \u001b[01;34mhot_and_sour_soup\u001b[0m/        \u001b[01;34mseaweed_salad\u001b[0m/\r\n",
      "\u001b[01;34mchocolate_cake\u001b[0m/      \u001b[01;34mhot_dog\u001b[0m/                  \u001b[01;34mshrimp_and_grits\u001b[0m/\r\n",
      "\u001b[01;34mchocolate_mousse\u001b[0m/    \u001b[01;34mhuevos_rancheros\u001b[0m/         \u001b[01;34mspaghetti_bolognese\u001b[0m/\r\n",
      "\u001b[01;34mchurros\u001b[0m/             \u001b[01;34mhummus\u001b[0m/                   \u001b[01;34mspaghetti_carbonara\u001b[0m/\r\n",
      "\u001b[01;34mclam_chowder\u001b[0m/        \u001b[01;34mice_cream\u001b[0m/                \u001b[01;34mspring_rolls\u001b[0m/\r\n",
      "\u001b[01;34mclub_sandwich\u001b[0m/       \u001b[01;34mlasagna\u001b[0m/                  \u001b[01;34msteak\u001b[0m/\r\n",
      "\u001b[01;34mcrab_cakes\u001b[0m/          \u001b[01;34mlobster_bisque\u001b[0m/           \u001b[01;34mstrawberry_shortcake\u001b[0m/\r\n",
      "\u001b[01;34mcreme_brulee\u001b[0m/        \u001b[01;34mlobster_roll_sandwich\u001b[0m/    \u001b[01;34msushi\u001b[0m/\r\n",
      "\u001b[01;34mcroque_madame\u001b[0m/       \u001b[01;34mmacaroni_and_cheese\u001b[0m/      \u001b[01;34mtacos\u001b[0m/\r\n",
      "\u001b[01;34mcup_cakes\u001b[0m/           \u001b[01;34mmacarons\u001b[0m/                 \u001b[01;34mtakoyaki\u001b[0m/\r\n",
      "\u001b[01;34mdeviled_eggs\u001b[0m/        \u001b[01;34mmiso_soup\u001b[0m/                \u001b[01;34mtiramisu\u001b[0m/\r\n",
      "\u001b[01;34mdonuts\u001b[0m/              \u001b[01;34mmussels\u001b[0m/                  \u001b[01;34mtuna_tartare\u001b[0m/\r\n",
      "\u001b[01;34mdumplings\u001b[0m/           \u001b[01;34mnachos\u001b[0m/                   \u001b[01;34mwaffles\u001b[0m/\r\n",
      "\u001b[01;34medamame\u001b[0m/             \u001b[01;34momelette\u001b[0m/\r\n"
     ]
    }
   ],
   "source": [
    "ls {DATASET_PATH}"
   ]
  },
  {
   "cell_type": "code",
   "execution_count": null,
   "metadata": {},
   "outputs": [],
   "source": []
  },
  {
   "cell_type": "code",
   "execution_count": 12,
   "metadata": {
    "ExecuteTime": {
     "end_time": "2018-07-20T18:52:40.793731Z",
     "start_time": "2018-07-20T18:52:40.790443Z"
    }
   },
   "outputs": [],
   "source": [
    "import sys\n",
    "sys.path.append(\"/home/ubuntu/fastai/\")"
   ]
  },
  {
   "cell_type": "code",
   "execution_count": 13,
   "metadata": {
    "ExecuteTime": {
     "end_time": "2018-07-20T18:53:02.636951Z",
     "start_time": "2018-07-20T18:52:43.214425Z"
    }
   },
   "outputs": [],
   "source": [
    "import fastai\n",
    "from fastai.imports import *\n",
    "from fastai.transforms import *\n",
    "from fastai.conv_learner import *\n",
    "from fastai.model import *\n",
    "from fastai.dataset import *\n",
    "from fastai.sgdr import *\n",
    "from fastai.plots import *\n",
    "import helper\n"
   ]
  },
  {
   "cell_type": "code",
   "execution_count": 14,
   "metadata": {
    "ExecuteTime": {
     "end_time": "2018-07-20T18:53:50.615543Z",
     "start_time": "2018-07-20T18:53:50.612449Z"
    }
   },
   "outputs": [],
   "source": [
    "import pandas as pd\n",
    "from tqdm import tqdm\n",
    "import hashlib\n",
    "from glob import glob\n"
   ]
  },
  {
   "cell_type": "code",
   "execution_count": 27,
   "metadata": {
    "ExecuteTime": {
     "end_time": "2018-07-20T18:57:27.656134Z",
     "start_time": "2018-07-20T18:57:27.629736Z"
    }
   },
   "outputs": [
    {
     "name": "stdout",
     "output_type": "stream",
     "text": [
      "The autoreload extension is already loaded. To reload it, use:\n",
      "  %reload_ext autoreload\n"
     ]
    }
   ],
   "source": [
    "%matplotlib inline\n",
    "%load_ext autoreload\n",
    "\n",
    "%autoreload 2"
   ]
  },
  {
   "cell_type": "code",
   "execution_count": null,
   "metadata": {},
   "outputs": [],
   "source": []
  },
  {
   "cell_type": "markdown",
   "metadata": {},
   "source": [
    "# Generate labels.csv"
   ]
  },
  {
   "cell_type": "code",
   "execution_count": 16,
   "metadata": {
    "ExecuteTime": {
     "end_time": "2018-07-20T18:53:56.772028Z",
     "start_time": "2018-07-20T18:53:56.639905Z"
    }
   },
   "outputs": [
    {
     "name": "stdout",
     "output_type": "stream",
     "text": [
      "/home/ubuntu/deep_learning_workshop/training\r\n"
     ]
    }
   ],
   "source": [
    "!pwd"
   ]
  },
  {
   "cell_type": "code",
   "execution_count": 17,
   "metadata": {
    "ExecuteTime": {
     "end_time": "2018-07-20T18:53:58.001871Z",
     "start_time": "2018-07-20T18:53:57.680593Z"
    }
   },
   "outputs": [],
   "source": [
    "!rm -rf models\n",
    "!mkdir models"
   ]
  },
  {
   "cell_type": "code",
   "execution_count": 18,
   "metadata": {
    "ExecuteTime": {
     "end_time": "2018-07-20T18:54:21.991578Z",
     "start_time": "2018-07-20T18:54:14.324974Z"
    }
   },
   "outputs": [],
   "source": [
    "BASE_PATH= DATASET_PATH\n",
    "\n",
    "# iterate over all the images, parse \"class name/folder\" and \"image name\"\n",
    "records = []\n",
    "for image in glob(f\"{BASE_PATH}/**/*.jpg\"):\n",
    "    dir_ = image.split('/')\n",
    "    file_, species = dir_[-1], dir_[-2]\n",
    "\n",
    "    records.append({\n",
    "        \"file\": image,\n",
    "        \"class\": species.replace(\" \", \"_\")\n",
    "    })\n",
    "\n",
    "labels_df = pd.DataFrame(records)\n",
    "os.makedirs(f'data/{DATASET_NAME}',exist_ok=True)\n",
    "labels_df.to_csv(f'data/{DATASET_NAME}/labels.csv', index=False)"
   ]
  },
  {
   "cell_type": "code",
   "execution_count": 21,
   "metadata": {
    "ExecuteTime": {
     "end_time": "2018-07-20T18:55:19.253548Z",
     "start_time": "2018-07-20T18:55:19.215893Z"
    },
    "collapsed": true
   },
   "outputs": [
    {
     "data": {
      "text/html": [
       "<div>\n",
       "<style scoped>\n",
       "    .dataframe tbody tr th:only-of-type {\n",
       "        vertical-align: middle;\n",
       "    }\n",
       "\n",
       "    .dataframe tbody tr th {\n",
       "        vertical-align: top;\n",
       "    }\n",
       "\n",
       "    .dataframe thead th {\n",
       "        text-align: right;\n",
       "    }\n",
       "</style>\n",
       "<table border=\"1\" class=\"dataframe\">\n",
       "  <thead>\n",
       "    <tr style=\"text-align: right;\">\n",
       "      <th></th>\n",
       "      <th>class</th>\n",
       "      <th>file</th>\n",
       "    </tr>\n",
       "  </thead>\n",
       "  <tbody>\n",
       "    <tr>\n",
       "      <th>0</th>\n",
       "      <td>filet_mignon</td>\n",
       "      <td>/home/ubuntu/data/food/filet_mignon/2150839.jpg</td>\n",
       "    </tr>\n",
       "    <tr>\n",
       "      <th>1</th>\n",
       "      <td>filet_mignon</td>\n",
       "      <td>/home/ubuntu/data/food/filet_mignon/2611025.jpg</td>\n",
       "    </tr>\n",
       "    <tr>\n",
       "      <th>2</th>\n",
       "      <td>filet_mignon</td>\n",
       "      <td>/home/ubuntu/data/food/filet_mignon/3360702.jpg</td>\n",
       "    </tr>\n",
       "    <tr>\n",
       "      <th>3</th>\n",
       "      <td>filet_mignon</td>\n",
       "      <td>/home/ubuntu/data/food/filet_mignon/1779620.jpg</td>\n",
       "    </tr>\n",
       "    <tr>\n",
       "      <th>4</th>\n",
       "      <td>filet_mignon</td>\n",
       "      <td>/home/ubuntu/data/food/filet_mignon/2100813.jpg</td>\n",
       "    </tr>\n",
       "    <tr>\n",
       "      <th>5</th>\n",
       "      <td>filet_mignon</td>\n",
       "      <td>/home/ubuntu/data/food/filet_mignon/2204089.jpg</td>\n",
       "    </tr>\n",
       "    <tr>\n",
       "      <th>6</th>\n",
       "      <td>filet_mignon</td>\n",
       "      <td>/home/ubuntu/data/food/filet_mignon/2584789.jpg</td>\n",
       "    </tr>\n",
       "    <tr>\n",
       "      <th>7</th>\n",
       "      <td>filet_mignon</td>\n",
       "      <td>/home/ubuntu/data/food/filet_mignon/2967960.jpg</td>\n",
       "    </tr>\n",
       "    <tr>\n",
       "      <th>8</th>\n",
       "      <td>filet_mignon</td>\n",
       "      <td>/home/ubuntu/data/food/filet_mignon/936538.jpg</td>\n",
       "    </tr>\n",
       "    <tr>\n",
       "      <th>9</th>\n",
       "      <td>filet_mignon</td>\n",
       "      <td>/home/ubuntu/data/food/filet_mignon/3674517.jpg</td>\n",
       "    </tr>\n",
       "    <tr>\n",
       "      <th>10</th>\n",
       "      <td>filet_mignon</td>\n",
       "      <td>/home/ubuntu/data/food/filet_mignon/3248100.jpg</td>\n",
       "    </tr>\n",
       "    <tr>\n",
       "      <th>11</th>\n",
       "      <td>filet_mignon</td>\n",
       "      <td>/home/ubuntu/data/food/filet_mignon/2155124.jpg</td>\n",
       "    </tr>\n",
       "    <tr>\n",
       "      <th>12</th>\n",
       "      <td>filet_mignon</td>\n",
       "      <td>/home/ubuntu/data/food/filet_mignon/1486592.jpg</td>\n",
       "    </tr>\n",
       "    <tr>\n",
       "      <th>13</th>\n",
       "      <td>filet_mignon</td>\n",
       "      <td>/home/ubuntu/data/food/filet_mignon/3158986.jpg</td>\n",
       "    </tr>\n",
       "    <tr>\n",
       "      <th>14</th>\n",
       "      <td>filet_mignon</td>\n",
       "      <td>/home/ubuntu/data/food/filet_mignon/127639.jpg</td>\n",
       "    </tr>\n",
       "    <tr>\n",
       "      <th>15</th>\n",
       "      <td>filet_mignon</td>\n",
       "      <td>/home/ubuntu/data/food/filet_mignon/1575660.jpg</td>\n",
       "    </tr>\n",
       "    <tr>\n",
       "      <th>16</th>\n",
       "      <td>filet_mignon</td>\n",
       "      <td>/home/ubuntu/data/food/filet_mignon/3019019.jpg</td>\n",
       "    </tr>\n",
       "    <tr>\n",
       "      <th>17</th>\n",
       "      <td>filet_mignon</td>\n",
       "      <td>/home/ubuntu/data/food/filet_mignon/2521615.jpg</td>\n",
       "    </tr>\n",
       "    <tr>\n",
       "      <th>18</th>\n",
       "      <td>filet_mignon</td>\n",
       "      <td>/home/ubuntu/data/food/filet_mignon/2741558.jpg</td>\n",
       "    </tr>\n",
       "    <tr>\n",
       "      <th>19</th>\n",
       "      <td>filet_mignon</td>\n",
       "      <td>/home/ubuntu/data/food/filet_mignon/2502675.jpg</td>\n",
       "    </tr>\n",
       "    <tr>\n",
       "      <th>20</th>\n",
       "      <td>filet_mignon</td>\n",
       "      <td>/home/ubuntu/data/food/filet_mignon/969953.jpg</td>\n",
       "    </tr>\n",
       "    <tr>\n",
       "      <th>21</th>\n",
       "      <td>filet_mignon</td>\n",
       "      <td>/home/ubuntu/data/food/filet_mignon/3323204.jpg</td>\n",
       "    </tr>\n",
       "    <tr>\n",
       "      <th>22</th>\n",
       "      <td>filet_mignon</td>\n",
       "      <td>/home/ubuntu/data/food/filet_mignon/3250284.jpg</td>\n",
       "    </tr>\n",
       "    <tr>\n",
       "      <th>23</th>\n",
       "      <td>filet_mignon</td>\n",
       "      <td>/home/ubuntu/data/food/filet_mignon/3562700.jpg</td>\n",
       "    </tr>\n",
       "    <tr>\n",
       "      <th>24</th>\n",
       "      <td>filet_mignon</td>\n",
       "      <td>/home/ubuntu/data/food/filet_mignon/2940992.jpg</td>\n",
       "    </tr>\n",
       "    <tr>\n",
       "      <th>25</th>\n",
       "      <td>filet_mignon</td>\n",
       "      <td>/home/ubuntu/data/food/filet_mignon/2654995.jpg</td>\n",
       "    </tr>\n",
       "    <tr>\n",
       "      <th>26</th>\n",
       "      <td>filet_mignon</td>\n",
       "      <td>/home/ubuntu/data/food/filet_mignon/1862389.jpg</td>\n",
       "    </tr>\n",
       "    <tr>\n",
       "      <th>27</th>\n",
       "      <td>filet_mignon</td>\n",
       "      <td>/home/ubuntu/data/food/filet_mignon/3133905.jpg</td>\n",
       "    </tr>\n",
       "    <tr>\n",
       "      <th>28</th>\n",
       "      <td>filet_mignon</td>\n",
       "      <td>/home/ubuntu/data/food/filet_mignon/279862.jpg</td>\n",
       "    </tr>\n",
       "    <tr>\n",
       "      <th>29</th>\n",
       "      <td>filet_mignon</td>\n",
       "      <td>/home/ubuntu/data/food/filet_mignon/3546056.jpg</td>\n",
       "    </tr>\n",
       "    <tr>\n",
       "      <th>...</th>\n",
       "      <td>...</td>\n",
       "      <td>...</td>\n",
       "    </tr>\n",
       "    <tr>\n",
       "      <th>100970</th>\n",
       "      <td>sashimi</td>\n",
       "      <td>/home/ubuntu/data/food/sashimi/3469796.jpg</td>\n",
       "    </tr>\n",
       "    <tr>\n",
       "      <th>100971</th>\n",
       "      <td>sashimi</td>\n",
       "      <td>/home/ubuntu/data/food/sashimi/1971784.jpg</td>\n",
       "    </tr>\n",
       "    <tr>\n",
       "      <th>100972</th>\n",
       "      <td>sashimi</td>\n",
       "      <td>/home/ubuntu/data/food/sashimi/3361539.jpg</td>\n",
       "    </tr>\n",
       "    <tr>\n",
       "      <th>100973</th>\n",
       "      <td>sashimi</td>\n",
       "      <td>/home/ubuntu/data/food/sashimi/444167.jpg</td>\n",
       "    </tr>\n",
       "    <tr>\n",
       "      <th>100974</th>\n",
       "      <td>sashimi</td>\n",
       "      <td>/home/ubuntu/data/food/sashimi/359575.jpg</td>\n",
       "    </tr>\n",
       "    <tr>\n",
       "      <th>100975</th>\n",
       "      <td>sashimi</td>\n",
       "      <td>/home/ubuntu/data/food/sashimi/625243.jpg</td>\n",
       "    </tr>\n",
       "    <tr>\n",
       "      <th>100976</th>\n",
       "      <td>sashimi</td>\n",
       "      <td>/home/ubuntu/data/food/sashimi/180113.jpg</td>\n",
       "    </tr>\n",
       "    <tr>\n",
       "      <th>100977</th>\n",
       "      <td>sashimi</td>\n",
       "      <td>/home/ubuntu/data/food/sashimi/3575511.jpg</td>\n",
       "    </tr>\n",
       "    <tr>\n",
       "      <th>100978</th>\n",
       "      <td>sashimi</td>\n",
       "      <td>/home/ubuntu/data/food/sashimi/987318.jpg</td>\n",
       "    </tr>\n",
       "    <tr>\n",
       "      <th>100979</th>\n",
       "      <td>sashimi</td>\n",
       "      <td>/home/ubuntu/data/food/sashimi/766300.jpg</td>\n",
       "    </tr>\n",
       "    <tr>\n",
       "      <th>100980</th>\n",
       "      <td>sashimi</td>\n",
       "      <td>/home/ubuntu/data/food/sashimi/3132026.jpg</td>\n",
       "    </tr>\n",
       "    <tr>\n",
       "      <th>100981</th>\n",
       "      <td>sashimi</td>\n",
       "      <td>/home/ubuntu/data/food/sashimi/1421124.jpg</td>\n",
       "    </tr>\n",
       "    <tr>\n",
       "      <th>100982</th>\n",
       "      <td>sashimi</td>\n",
       "      <td>/home/ubuntu/data/food/sashimi/676364.jpg</td>\n",
       "    </tr>\n",
       "    <tr>\n",
       "      <th>100983</th>\n",
       "      <td>sashimi</td>\n",
       "      <td>/home/ubuntu/data/food/sashimi/3057527.jpg</td>\n",
       "    </tr>\n",
       "    <tr>\n",
       "      <th>100984</th>\n",
       "      <td>sashimi</td>\n",
       "      <td>/home/ubuntu/data/food/sashimi/1247826.jpg</td>\n",
       "    </tr>\n",
       "    <tr>\n",
       "      <th>100985</th>\n",
       "      <td>sashimi</td>\n",
       "      <td>/home/ubuntu/data/food/sashimi/3186196.jpg</td>\n",
       "    </tr>\n",
       "    <tr>\n",
       "      <th>100986</th>\n",
       "      <td>sashimi</td>\n",
       "      <td>/home/ubuntu/data/food/sashimi/2618047.jpg</td>\n",
       "    </tr>\n",
       "    <tr>\n",
       "      <th>100987</th>\n",
       "      <td>sashimi</td>\n",
       "      <td>/home/ubuntu/data/food/sashimi/397068.jpg</td>\n",
       "    </tr>\n",
       "    <tr>\n",
       "      <th>100988</th>\n",
       "      <td>sashimi</td>\n",
       "      <td>/home/ubuntu/data/food/sashimi/3686799.jpg</td>\n",
       "    </tr>\n",
       "    <tr>\n",
       "      <th>100989</th>\n",
       "      <td>sashimi</td>\n",
       "      <td>/home/ubuntu/data/food/sashimi/3361149.jpg</td>\n",
       "    </tr>\n",
       "    <tr>\n",
       "      <th>100990</th>\n",
       "      <td>sashimi</td>\n",
       "      <td>/home/ubuntu/data/food/sashimi/329764.jpg</td>\n",
       "    </tr>\n",
       "    <tr>\n",
       "      <th>100991</th>\n",
       "      <td>sashimi</td>\n",
       "      <td>/home/ubuntu/data/food/sashimi/1977089.jpg</td>\n",
       "    </tr>\n",
       "    <tr>\n",
       "      <th>100992</th>\n",
       "      <td>sashimi</td>\n",
       "      <td>/home/ubuntu/data/food/sashimi/208014.jpg</td>\n",
       "    </tr>\n",
       "    <tr>\n",
       "      <th>100993</th>\n",
       "      <td>sashimi</td>\n",
       "      <td>/home/ubuntu/data/food/sashimi/171560.jpg</td>\n",
       "    </tr>\n",
       "    <tr>\n",
       "      <th>100994</th>\n",
       "      <td>sashimi</td>\n",
       "      <td>/home/ubuntu/data/food/sashimi/1833921.jpg</td>\n",
       "    </tr>\n",
       "    <tr>\n",
       "      <th>100995</th>\n",
       "      <td>sashimi</td>\n",
       "      <td>/home/ubuntu/data/food/sashimi/415059.jpg</td>\n",
       "    </tr>\n",
       "    <tr>\n",
       "      <th>100996</th>\n",
       "      <td>sashimi</td>\n",
       "      <td>/home/ubuntu/data/food/sashimi/497800.jpg</td>\n",
       "    </tr>\n",
       "    <tr>\n",
       "      <th>100997</th>\n",
       "      <td>sashimi</td>\n",
       "      <td>/home/ubuntu/data/food/sashimi/3191511.jpg</td>\n",
       "    </tr>\n",
       "    <tr>\n",
       "      <th>100998</th>\n",
       "      <td>sashimi</td>\n",
       "      <td>/home/ubuntu/data/food/sashimi/3619696.jpg</td>\n",
       "    </tr>\n",
       "    <tr>\n",
       "      <th>100999</th>\n",
       "      <td>sashimi</td>\n",
       "      <td>/home/ubuntu/data/food/sashimi/2632782.jpg</td>\n",
       "    </tr>\n",
       "  </tbody>\n",
       "</table>\n",
       "<p>101000 rows × 2 columns</p>\n",
       "</div>"
      ],
      "text/plain": [
       "               class                                             file\n",
       "0       filet_mignon  /home/ubuntu/data/food/filet_mignon/2150839.jpg\n",
       "1       filet_mignon  /home/ubuntu/data/food/filet_mignon/2611025.jpg\n",
       "2       filet_mignon  /home/ubuntu/data/food/filet_mignon/3360702.jpg\n",
       "3       filet_mignon  /home/ubuntu/data/food/filet_mignon/1779620.jpg\n",
       "4       filet_mignon  /home/ubuntu/data/food/filet_mignon/2100813.jpg\n",
       "5       filet_mignon  /home/ubuntu/data/food/filet_mignon/2204089.jpg\n",
       "6       filet_mignon  /home/ubuntu/data/food/filet_mignon/2584789.jpg\n",
       "7       filet_mignon  /home/ubuntu/data/food/filet_mignon/2967960.jpg\n",
       "8       filet_mignon   /home/ubuntu/data/food/filet_mignon/936538.jpg\n",
       "9       filet_mignon  /home/ubuntu/data/food/filet_mignon/3674517.jpg\n",
       "10      filet_mignon  /home/ubuntu/data/food/filet_mignon/3248100.jpg\n",
       "11      filet_mignon  /home/ubuntu/data/food/filet_mignon/2155124.jpg\n",
       "12      filet_mignon  /home/ubuntu/data/food/filet_mignon/1486592.jpg\n",
       "13      filet_mignon  /home/ubuntu/data/food/filet_mignon/3158986.jpg\n",
       "14      filet_mignon   /home/ubuntu/data/food/filet_mignon/127639.jpg\n",
       "15      filet_mignon  /home/ubuntu/data/food/filet_mignon/1575660.jpg\n",
       "16      filet_mignon  /home/ubuntu/data/food/filet_mignon/3019019.jpg\n",
       "17      filet_mignon  /home/ubuntu/data/food/filet_mignon/2521615.jpg\n",
       "18      filet_mignon  /home/ubuntu/data/food/filet_mignon/2741558.jpg\n",
       "19      filet_mignon  /home/ubuntu/data/food/filet_mignon/2502675.jpg\n",
       "20      filet_mignon   /home/ubuntu/data/food/filet_mignon/969953.jpg\n",
       "21      filet_mignon  /home/ubuntu/data/food/filet_mignon/3323204.jpg\n",
       "22      filet_mignon  /home/ubuntu/data/food/filet_mignon/3250284.jpg\n",
       "23      filet_mignon  /home/ubuntu/data/food/filet_mignon/3562700.jpg\n",
       "24      filet_mignon  /home/ubuntu/data/food/filet_mignon/2940992.jpg\n",
       "25      filet_mignon  /home/ubuntu/data/food/filet_mignon/2654995.jpg\n",
       "26      filet_mignon  /home/ubuntu/data/food/filet_mignon/1862389.jpg\n",
       "27      filet_mignon  /home/ubuntu/data/food/filet_mignon/3133905.jpg\n",
       "28      filet_mignon   /home/ubuntu/data/food/filet_mignon/279862.jpg\n",
       "29      filet_mignon  /home/ubuntu/data/food/filet_mignon/3546056.jpg\n",
       "...              ...                                              ...\n",
       "100970       sashimi       /home/ubuntu/data/food/sashimi/3469796.jpg\n",
       "100971       sashimi       /home/ubuntu/data/food/sashimi/1971784.jpg\n",
       "100972       sashimi       /home/ubuntu/data/food/sashimi/3361539.jpg\n",
       "100973       sashimi        /home/ubuntu/data/food/sashimi/444167.jpg\n",
       "100974       sashimi        /home/ubuntu/data/food/sashimi/359575.jpg\n",
       "100975       sashimi        /home/ubuntu/data/food/sashimi/625243.jpg\n",
       "100976       sashimi        /home/ubuntu/data/food/sashimi/180113.jpg\n",
       "100977       sashimi       /home/ubuntu/data/food/sashimi/3575511.jpg\n",
       "100978       sashimi        /home/ubuntu/data/food/sashimi/987318.jpg\n",
       "100979       sashimi        /home/ubuntu/data/food/sashimi/766300.jpg\n",
       "100980       sashimi       /home/ubuntu/data/food/sashimi/3132026.jpg\n",
       "100981       sashimi       /home/ubuntu/data/food/sashimi/1421124.jpg\n",
       "100982       sashimi        /home/ubuntu/data/food/sashimi/676364.jpg\n",
       "100983       sashimi       /home/ubuntu/data/food/sashimi/3057527.jpg\n",
       "100984       sashimi       /home/ubuntu/data/food/sashimi/1247826.jpg\n",
       "100985       sashimi       /home/ubuntu/data/food/sashimi/3186196.jpg\n",
       "100986       sashimi       /home/ubuntu/data/food/sashimi/2618047.jpg\n",
       "100987       sashimi        /home/ubuntu/data/food/sashimi/397068.jpg\n",
       "100988       sashimi       /home/ubuntu/data/food/sashimi/3686799.jpg\n",
       "100989       sashimi       /home/ubuntu/data/food/sashimi/3361149.jpg\n",
       "100990       sashimi        /home/ubuntu/data/food/sashimi/329764.jpg\n",
       "100991       sashimi       /home/ubuntu/data/food/sashimi/1977089.jpg\n",
       "100992       sashimi        /home/ubuntu/data/food/sashimi/208014.jpg\n",
       "100993       sashimi        /home/ubuntu/data/food/sashimi/171560.jpg\n",
       "100994       sashimi       /home/ubuntu/data/food/sashimi/1833921.jpg\n",
       "100995       sashimi        /home/ubuntu/data/food/sashimi/415059.jpg\n",
       "100996       sashimi        /home/ubuntu/data/food/sashimi/497800.jpg\n",
       "100997       sashimi       /home/ubuntu/data/food/sashimi/3191511.jpg\n",
       "100998       sashimi       /home/ubuntu/data/food/sashimi/3619696.jpg\n",
       "100999       sashimi       /home/ubuntu/data/food/sashimi/2632782.jpg\n",
       "\n",
       "[101000 rows x 2 columns]"
      ]
     },
     "execution_count": 21,
     "metadata": {},
     "output_type": "execute_result"
    }
   ],
   "source": [
    "labels_df"
   ]
  },
  {
   "cell_type": "code",
   "execution_count": 19,
   "metadata": {
    "ExecuteTime": {
     "end_time": "2018-07-20T18:54:48.135747Z",
     "start_time": "2018-07-20T18:54:47.999677Z"
    }
   },
   "outputs": [
    {
     "name": "stdout",
     "output_type": "stream",
     "text": [
      "converted_model.tflite\t     graph.lite\t\t   model_benchmark\r\n",
      "data\t\t\t     helper.py\t\t   models\r\n",
      "dobgreed_mobilenet_tf.ipynb  keras.ipynb\t   prep.ipynb\r\n",
      "dobgreed_resnet.ipynb\t     keras_parallel.ipynb  __pycache__\r\n",
      "dog_breed.h5\t\t     keras_parallel.py\t   sector_labelling.ipynb\r\n",
      "dog_breed.mlmodel\t     labels.csv\t\t   tensorflow_export.ipynb\r\n",
      "dog_breed_tf.h5\t\t     labels.txt\t\t   tensorflow_tf_keras.ipynb\r\n",
      "downloads\t\t     MobileNet.ipynb\t   tmp\r\n",
      "fastai.ipynb\t\t     model\r\n"
     ]
    }
   ],
   "source": [
    "!ls"
   ]
  },
  {
   "cell_type": "code",
   "execution_count": 22,
   "metadata": {
    "ExecuteTime": {
     "end_time": "2018-07-20T18:56:08.473197Z",
     "start_time": "2018-07-20T18:56:08.443915Z"
    }
   },
   "outputs": [
    {
     "data": {
      "text/html": [
       "<div>\n",
       "<style scoped>\n",
       "    .dataframe tbody tr th:only-of-type {\n",
       "        vertical-align: middle;\n",
       "    }\n",
       "\n",
       "    .dataframe tbody tr th {\n",
       "        vertical-align: top;\n",
       "    }\n",
       "\n",
       "    .dataframe thead th {\n",
       "        text-align: right;\n",
       "    }\n",
       "</style>\n",
       "<table border=\"1\" class=\"dataframe\">\n",
       "  <thead>\n",
       "    <tr style=\"text-align: right;\">\n",
       "      <th></th>\n",
       "      <th>class</th>\n",
       "      <th>file</th>\n",
       "    </tr>\n",
       "  </thead>\n",
       "  <tbody>\n",
       "    <tr>\n",
       "      <th>0</th>\n",
       "      <td>filet_mignon</td>\n",
       "      <td>/home/ubuntu/data/food/filet_mignon/2150839.jpg</td>\n",
       "    </tr>\n",
       "    <tr>\n",
       "      <th>1</th>\n",
       "      <td>filet_mignon</td>\n",
       "      <td>/home/ubuntu/data/food/filet_mignon/2611025.jpg</td>\n",
       "    </tr>\n",
       "    <tr>\n",
       "      <th>2</th>\n",
       "      <td>filet_mignon</td>\n",
       "      <td>/home/ubuntu/data/food/filet_mignon/3360702.jpg</td>\n",
       "    </tr>\n",
       "    <tr>\n",
       "      <th>3</th>\n",
       "      <td>filet_mignon</td>\n",
       "      <td>/home/ubuntu/data/food/filet_mignon/1779620.jpg</td>\n",
       "    </tr>\n",
       "    <tr>\n",
       "      <th>4</th>\n",
       "      <td>filet_mignon</td>\n",
       "      <td>/home/ubuntu/data/food/filet_mignon/2100813.jpg</td>\n",
       "    </tr>\n",
       "  </tbody>\n",
       "</table>\n",
       "</div>"
      ],
      "text/plain": [
       "          class                                             file\n",
       "0  filet_mignon  /home/ubuntu/data/food/filet_mignon/2150839.jpg\n",
       "1  filet_mignon  /home/ubuntu/data/food/filet_mignon/2611025.jpg\n",
       "2  filet_mignon  /home/ubuntu/data/food/filet_mignon/3360702.jpg\n",
       "3  filet_mignon  /home/ubuntu/data/food/filet_mignon/1779620.jpg\n",
       "4  filet_mignon  /home/ubuntu/data/food/filet_mignon/2100813.jpg"
      ]
     },
     "execution_count": 22,
     "metadata": {},
     "output_type": "execute_result"
    }
   ],
   "source": [
    "labels_df.head()"
   ]
  },
  {
   "cell_type": "markdown",
   "metadata": {},
   "source": [
    "**Number of unqiue categories **"
   ]
  },
  {
   "cell_type": "code",
   "execution_count": 23,
   "metadata": {
    "ExecuteTime": {
     "end_time": "2018-07-20T18:56:51.843282Z",
     "start_time": "2018-07-20T18:56:51.796366Z"
    }
   },
   "outputs": [
    {
     "data": {
      "text/plain": [
       "101"
      ]
     },
     "execution_count": 23,
     "metadata": {},
     "output_type": "execute_result"
    }
   ],
   "source": [
    "num_classes = len(labels_df['class'].unique())\n",
    "num_classes"
   ]
  },
  {
   "cell_type": "code",
   "execution_count": null,
   "metadata": {},
   "outputs": [],
   "source": []
  },
  {
   "cell_type": "code",
   "execution_count": 24,
   "metadata": {
    "ExecuteTime": {
     "end_time": "2018-07-20T18:57:02.654424Z",
     "start_time": "2018-07-20T18:57:02.612102Z"
    }
   },
   "outputs": [
    {
     "data": {
      "text/plain": [
       "fried_calamari         1000\n",
       "huevos_rancheros       1000\n",
       "bruschetta             1000\n",
       "spring_rolls           1000\n",
       "hot_and_sour_soup      1000\n",
       "tacos                  1000\n",
       "waffles                1000\n",
       "red_velvet_cake        1000\n",
       "spaghetti_bolognese    1000\n",
       "tuna_tartare           1000\n",
       "Name: class, dtype: int64"
      ]
     },
     "execution_count": 24,
     "metadata": {},
     "output_type": "execute_result"
    }
   ],
   "source": [
    "labels_df['class'].value_counts()[0:10]"
   ]
  },
  {
   "cell_type": "markdown",
   "metadata": {},
   "source": [
    "# View Sample Images"
   ]
  },
  {
   "cell_type": "code",
   "execution_count": 28,
   "metadata": {
    "ExecuteTime": {
     "end_time": "2018-07-20T18:57:46.351891Z",
     "start_time": "2018-07-20T18:57:46.290045Z"
    }
   },
   "outputs": [
    {
     "data": {
      "text/plain": [
       "<Figure size 3600x2160 with 0 Axes>"
      ]
     },
     "metadata": {},
     "output_type": "display_data"
    }
   ],
   "source": [
    "helper.display_images_from_class(labels_df,label='eskimo_dog',num_images=10 )"
   ]
  },
  {
   "cell_type": "code",
   "execution_count": 26,
   "metadata": {
    "ExecuteTime": {
     "end_time": "2018-07-20T18:57:15.641379Z",
     "start_time": "2018-07-20T18:57:15.575950Z"
    },
    "scrolled": false
   },
   "outputs": [
    {
     "data": {
      "text/plain": [
       "<Figure size 3600x2160 with 0 Axes>"
      ]
     },
     "metadata": {},
     "output_type": "display_data"
    }
   ],
   "source": [
    "helper.display_images_from_class(labels_df,label='french_bulldog',num_images=10 )"
   ]
  },
  {
   "cell_type": "code",
   "execution_count": null,
   "metadata": {},
   "outputs": [],
   "source": []
  },
  {
   "cell_type": "code",
   "execution_count": 29,
   "metadata": {
    "ExecuteTime": {
     "end_time": "2018-07-20T18:58:22.347839Z",
     "start_time": "2018-07-20T18:58:22.325588Z"
    }
   },
   "outputs": [],
   "source": [
    "PATH = DATASET_PATH\n"
   ]
  },
  {
   "cell_type": "markdown",
   "metadata": {},
   "source": [
    "**Save only first n classes **"
   ]
  },
  {
   "cell_type": "code",
   "execution_count": 39,
   "metadata": {
    "ExecuteTime": {
     "end_time": "2018-07-20T19:21:21.468755Z",
     "start_time": "2018-07-20T19:21:21.379241Z"
    }
   },
   "outputs": [],
   "source": [
    "n = 10\n",
    "topn_classes = labels_df['class'].value_counts()[0:n].index.tolist()"
   ]
  },
  {
   "cell_type": "code",
   "execution_count": 40,
   "metadata": {
    "ExecuteTime": {
     "end_time": "2018-07-20T19:21:23.507899Z",
     "start_time": "2018-07-20T19:21:23.390290Z"
    }
   },
   "outputs": [],
   "source": [
    "labels_df=labels_df[labels_df['class'].isin(topn_classes)]"
   ]
  },
  {
   "cell_type": "code",
   "execution_count": 41,
   "metadata": {
    "ExecuteTime": {
     "end_time": "2018-07-20T19:21:24.934004Z",
     "start_time": "2018-07-20T19:21:24.812510Z"
    }
   },
   "outputs": [],
   "source": [
    "labels_df.to_csv(f'data/{DATASET_NAME}/labels.csv')"
   ]
  },
  {
   "cell_type": "markdown",
   "metadata": {},
   "source": [
    "** Validation data **"
   ]
  },
  {
   "cell_type": "code",
   "execution_count": 42,
   "metadata": {
    "ExecuteTime": {
     "end_time": "2018-07-20T19:21:56.655852Z",
     "start_time": "2018-07-20T19:21:56.550051Z"
    }
   },
   "outputs": [],
   "source": [
    "label_csv = f'data/{DATASET_NAME}/labels.csv'\n",
    "n = len(list(open(label_csv)))-1\n",
    "val_idxs = get_cv_idxs(n)\n"
   ]
  },
  {
   "cell_type": "code",
   "execution_count": null,
   "metadata": {},
   "outputs": [],
   "source": []
  },
  {
   "cell_type": "markdown",
   "metadata": {},
   "source": [
    "# Save Subset"
   ]
  },
  {
   "cell_type": "code",
   "execution_count": 43,
   "metadata": {
    "ExecuteTime": {
     "end_time": "2018-07-20T19:22:30.547855Z",
     "start_time": "2018-07-20T19:22:30.447551Z"
    }
   },
   "outputs": [],
   "source": [
    "def save_images(list_images,dest='train'):\n",
    "    for img_path in tqdm(list_images):\n",
    "        paths = img_path.split(\"/\")\n",
    "        class_name, img_file = paths[-2],paths[-1]\n",
    "        \n",
    "        os.makedirs(f\"{dest}/{class_name}\",exist_ok=True)\n",
    "        shutil.copy(img_path,f\"{dest}/{class_name}/{img_file}\")\n",
    "        "
   ]
  },
  {
   "cell_type": "code",
   "execution_count": 44,
   "metadata": {
    "ExecuteTime": {
     "end_time": "2018-07-20T19:22:35.684953Z",
     "start_time": "2018-07-20T19:22:31.413610Z"
    }
   },
   "outputs": [],
   "source": [
    "shutil.rmtree(f'data/{DATASET_NAME}/train',ignore_errors=True)\n",
    "shutil.rmtree(f'data/{DATASET_NAME}/valid',ignore_errors=True)"
   ]
  },
  {
   "cell_type": "code",
   "execution_count": null,
   "metadata": {},
   "outputs": [],
   "source": []
  },
  {
   "cell_type": "code",
   "execution_count": 45,
   "metadata": {
    "ExecuteTime": {
     "end_time": "2018-07-20T19:22:39.738520Z",
     "start_time": "2018-07-20T19:22:37.783461Z"
    }
   },
   "outputs": [
    {
     "name": "stderr",
     "output_type": "stream",
     "text": [
      "100%|██████████| 9377/9377 [00:01<00:00, 5884.37it/s]\n",
      "100%|██████████| 2000/2000 [00:00<00:00, 6078.77it/s]\n"
     ]
    }
   ],
   "source": [
    "train_set = labels_df[~labels_df.index.isin(val_idxs)]\n",
    "save_images(train_set['file'], dest=f'data/{DATASET_NAME}/train')\n",
    "\n",
    "save_images(labels_df.iloc[val_idxs]['file'], dest=f'data/{DATASET_NAME}/valid')\n"
   ]
  },
  {
   "cell_type": "code",
   "execution_count": 46,
   "metadata": {
    "ExecuteTime": {
     "end_time": "2018-07-20T19:22:43.707376Z",
     "start_time": "2018-07-20T19:22:43.681052Z"
    }
   },
   "outputs": [
    {
     "data": {
      "text/plain": [
       "1000     /home/ubuntu/data/food/red_velvet_cake/3026588...\n",
       "1001     /home/ubuntu/data/food/red_velvet_cake/1297812...\n",
       "1003     /home/ubuntu/data/food/red_velvet_cake/249556.jpg\n",
       "1004      /home/ubuntu/data/food/red_velvet_cake/25552.jpg\n",
       "1005     /home/ubuntu/data/food/red_velvet_cake/2229825...\n",
       "1006     /home/ubuntu/data/food/red_velvet_cake/1225708...\n",
       "1007     /home/ubuntu/data/food/red_velvet_cake/1222541...\n",
       "1008     /home/ubuntu/data/food/red_velvet_cake/2133877...\n",
       "1011     /home/ubuntu/data/food/red_velvet_cake/528156.jpg\n",
       "1012     /home/ubuntu/data/food/red_velvet_cake/2078400...\n",
       "1013     /home/ubuntu/data/food/red_velvet_cake/1721568...\n",
       "1014     /home/ubuntu/data/food/red_velvet_cake/2359267...\n",
       "1015     /home/ubuntu/data/food/red_velvet_cake/2577022...\n",
       "1016     /home/ubuntu/data/food/red_velvet_cake/372523.jpg\n",
       "1017     /home/ubuntu/data/food/red_velvet_cake/235671.jpg\n",
       "1019     /home/ubuntu/data/food/red_velvet_cake/368686.jpg\n",
       "1021     /home/ubuntu/data/food/red_velvet_cake/1423857...\n",
       "1023     /home/ubuntu/data/food/red_velvet_cake/2422945...\n",
       "1024     /home/ubuntu/data/food/red_velvet_cake/3317730...\n",
       "1025     /home/ubuntu/data/food/red_velvet_cake/853651.jpg\n",
       "1027     /home/ubuntu/data/food/red_velvet_cake/2151301...\n",
       "1028     /home/ubuntu/data/food/red_velvet_cake/1542009...\n",
       "1029     /home/ubuntu/data/food/red_velvet_cake/529378.jpg\n",
       "1030      /home/ubuntu/data/food/red_velvet_cake/30545.jpg\n",
       "1031      /home/ubuntu/data/food/red_velvet_cake/62852.jpg\n",
       "1032     /home/ubuntu/data/food/red_velvet_cake/3337597...\n",
       "1033     /home/ubuntu/data/food/red_velvet_cake/1871368...\n",
       "1035     /home/ubuntu/data/food/red_velvet_cake/3384300...\n",
       "1036     /home/ubuntu/data/food/red_velvet_cake/3556726...\n",
       "1037     /home/ubuntu/data/food/red_velvet_cake/944633.jpg\n",
       "                               ...                        \n",
       "95970    /home/ubuntu/data/food/spaghetti_bolognese/107...\n",
       "95971    /home/ubuntu/data/food/spaghetti_bolognese/391...\n",
       "95972    /home/ubuntu/data/food/spaghetti_bolognese/217...\n",
       "95973    /home/ubuntu/data/food/spaghetti_bolognese/347...\n",
       "95974    /home/ubuntu/data/food/spaghetti_bolognese/864...\n",
       "95975    /home/ubuntu/data/food/spaghetti_bolognese/229...\n",
       "95976    /home/ubuntu/data/food/spaghetti_bolognese/342...\n",
       "95977    /home/ubuntu/data/food/spaghetti_bolognese/181...\n",
       "95978    /home/ubuntu/data/food/spaghetti_bolognese/834...\n",
       "95979    /home/ubuntu/data/food/spaghetti_bolognese/953...\n",
       "95980    /home/ubuntu/data/food/spaghetti_bolognese/364...\n",
       "95981    /home/ubuntu/data/food/spaghetti_bolognese/365...\n",
       "95982    /home/ubuntu/data/food/spaghetti_bolognese/113...\n",
       "95983    /home/ubuntu/data/food/spaghetti_bolognese/233...\n",
       "95984    /home/ubuntu/data/food/spaghetti_bolognese/347...\n",
       "95985    /home/ubuntu/data/food/spaghetti_bolognese/177...\n",
       "95986    /home/ubuntu/data/food/spaghetti_bolognese/322...\n",
       "95987    /home/ubuntu/data/food/spaghetti_bolognese/135...\n",
       "95988    /home/ubuntu/data/food/spaghetti_bolognese/203...\n",
       "95989    /home/ubuntu/data/food/spaghetti_bolognese/232...\n",
       "95990    /home/ubuntu/data/food/spaghetti_bolognese/361...\n",
       "95991    /home/ubuntu/data/food/spaghetti_bolognese/250...\n",
       "95992    /home/ubuntu/data/food/spaghetti_bolognese/229...\n",
       "95993    /home/ubuntu/data/food/spaghetti_bolognese/262...\n",
       "95994    /home/ubuntu/data/food/spaghetti_bolognese/332...\n",
       "95995    /home/ubuntu/data/food/spaghetti_bolognese/759...\n",
       "95996    /home/ubuntu/data/food/spaghetti_bolognese/119...\n",
       "95997    /home/ubuntu/data/food/spaghetti_bolognese/252...\n",
       "95998    /home/ubuntu/data/food/spaghetti_bolognese/365...\n",
       "95999    /home/ubuntu/data/food/spaghetti_bolognese/347...\n",
       "Name: file, Length: 9377, dtype: object"
      ]
     },
     "execution_count": 46,
     "metadata": {},
     "output_type": "execute_result"
    }
   ],
   "source": [
    "train_set['file']"
   ]
  },
  {
   "cell_type": "code",
   "execution_count": null,
   "metadata": {},
   "outputs": [],
   "source": []
  }
 ],
 "metadata": {
  "kernelspec": {
   "display_name": "Python 3",
   "language": "python",
   "name": "python3"
  },
  "language_info": {
   "codemirror_mode": {
    "name": "ipython",
    "version": 3
   },
   "file_extension": ".py",
   "mimetype": "text/x-python",
   "name": "python",
   "nbconvert_exporter": "python",
   "pygments_lexer": "ipython3",
   "version": "3.6.6"
  }
 },
 "nbformat": 4,
 "nbformat_minor": 2
}
