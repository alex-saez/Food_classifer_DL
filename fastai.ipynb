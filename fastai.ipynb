{
 "cells": [
  {
   "cell_type": "markdown",
   "metadata": {},
   "source": [
    "# Imports"
   ]
  },
  {
   "cell_type": "markdown",
   "metadata": {},
   "source": [
    "FastAI makes prototyping deep learning models simple.     \n",
    "Hoever the library is not updated to pip frequnetly. "
   ]
  },
  {
   "cell_type": "code",
   "execution_count": 1,
   "metadata": {
    "ExecuteTime": {
     "end_time": "2018-07-20T19:23:43.060137Z",
     "start_time": "2018-07-20T19:23:43.056249Z"
    }
   },
   "outputs": [],
   "source": [
    "import sys\n",
    "sys.path.append(\"/home/ubuntu/fastai/\")"
   ]
  },
  {
   "cell_type": "code",
   "execution_count": 2,
   "metadata": {
    "ExecuteTime": {
     "end_time": "2018-07-20T19:23:45.004150Z",
     "start_time": "2018-07-20T19:23:43.573749Z"
    }
   },
   "outputs": [],
   "source": [
    "import fastai\n",
    "from fastai.imports import *\n",
    "from fastai.transforms import *\n",
    "from fastai.conv_learner import *\n",
    "from fastai.model import *\n",
    "from fastai.dataset import *\n",
    "from fastai.sgdr import *\n",
    "from fastai.plots import *\n",
    "from glob import glob\n",
    "import pandas as pd\n",
    "import helper\n",
    "from tqdm import tqdm\n",
    "import hashlib\n",
    "from urllib import request\n"
   ]
  },
  {
   "cell_type": "code",
   "execution_count": null,
   "metadata": {},
   "outputs": [],
   "source": []
  },
  {
   "cell_type": "code",
   "execution_count": 3,
   "metadata": {
    "ExecuteTime": {
     "end_time": "2018-07-20T19:23:53.370754Z",
     "start_time": "2018-07-20T19:23:53.342310Z"
    }
   },
   "outputs": [],
   "source": [
    "%matplotlib inline\n",
    "%load_ext autoreload\n",
    "%autoreload 2"
   ]
  },
  {
   "cell_type": "code",
   "execution_count": 4,
   "metadata": {
    "ExecuteTime": {
     "end_time": "2018-07-20T19:23:55.028228Z",
     "start_time": "2018-07-20T19:23:55.007453Z"
    }
   },
   "outputs": [],
   "source": [
    "# sorted by size of data\n",
    "# DATASET_NAME = \"dog_breed\"\n",
    "#DATASET_NAME = \"leaf\"\n",
    "DATASET_NAME = \"food\"\n",
    "#DATASET_NAME = \"bird\"\n",
    "#DATASET_NAME = \"fungus\"\n",
    "\n",
    "PATH = f\"data/{DATASET_NAME}\""
   ]
  },
  {
   "cell_type": "code",
   "execution_count": 5,
   "metadata": {
    "ExecuteTime": {
     "end_time": "2018-07-20T19:24:02.550309Z",
     "start_time": "2018-07-20T19:24:02.415649Z"
    }
   },
   "outputs": [
    {
     "name": "stdout",
     "output_type": "stream",
     "text": [
      "labels.csv  tmp  train\tvalid\r\n"
     ]
    }
   ],
   "source": [
    "!ls {PATH}"
   ]
  },
  {
   "cell_type": "markdown",
   "metadata": {},
   "source": [
    "# Train data"
   ]
  },
  {
   "cell_type": "markdown",
   "metadata": {},
   "source": [
    "transformations to apply on the image"
   ]
  },
  {
   "cell_type": "code",
   "execution_count": 6,
   "metadata": {
    "ExecuteTime": {
     "end_time": "2018-07-20T19:24:28.545373Z",
     "start_time": "2018-07-20T19:24:28.518344Z"
    }
   },
   "outputs": [
    {
     "data": {
      "text/plain": [
       "[<fastai.transforms.RandomRotate at 0x7fc3a130bfd0>,\n",
       " <fastai.transforms.RandomLighting at 0x7fc3a1318080>,\n",
       " <fastai.transforms.RandomFlip at 0x7fc3a13180b8>]"
      ]
     },
     "execution_count": 6,
     "metadata": {},
     "output_type": "execute_result"
    }
   ],
   "source": [
    "transforms_side_on"
   ]
  },
  {
   "cell_type": "code",
   "execution_count": 7,
   "metadata": {
    "ExecuteTime": {
     "end_time": "2018-07-20T19:24:29.990058Z",
     "start_time": "2018-07-20T19:24:29.968577Z"
    }
   },
   "outputs": [],
   "source": [
    "def get_data(sz, bs):\n",
    "    tfms = tfms_from_model(arch, sz, aug_tfms=transforms_side_on,\n",
    "                           max_zoom=1.1)\n",
    "    data = ImageClassifierData.from_paths(path=PATH\n",
    "            , num_workers=8\n",
    "            , tfms=tfms, bs=bs)\n",
    "    #return data.resize(sz, 'tmp')\n",
    "    return data if sz>300 else data.resize(340, 'tmp')"
   ]
  },
  {
   "cell_type": "code",
   "execution_count": 8,
   "metadata": {
    "ExecuteTime": {
     "end_time": "2018-07-20T19:24:31.191819Z",
     "start_time": "2018-07-20T19:24:31.169215Z"
    }
   },
   "outputs": [],
   "source": [
    "sz = 224 # size of image\n",
    "arch = resnet34 #model architecture..\n",
    "bs=128 # batch size; number of images to process at one time"
   ]
  },
  {
   "cell_type": "code",
   "execution_count": 9,
   "metadata": {
    "ExecuteTime": {
     "end_time": "2018-07-20T19:24:32.899966Z",
     "start_time": "2018-07-20T19:24:32.267982Z"
    }
   },
   "outputs": [],
   "source": [
    "! rm -rf {PATH}/tmp/"
   ]
  },
  {
   "cell_type": "markdown",
   "metadata": {},
   "source": [
    "** Train with precompute weights **       \n",
    "To speed up training, you can disable data augmentation.      \n",
    "When data augmentation is off, you can cache the precomputed weights"
   ]
  },
  {
   "cell_type": "code",
   "execution_count": 10,
   "metadata": {
    "ExecuteTime": {
     "end_time": "2018-07-20T19:27:22.967962Z",
     "start_time": "2018-07-20T19:24:38.241816Z"
    }
   },
   "outputs": [
    {
     "data": {
      "application/vnd.jupyter.widget-view+json": {
       "model_id": "d5f92981496d4427be810fd2e606b170",
       "version_major": 2,
       "version_minor": 0
      },
      "text/plain": [
       "HBox(children=(IntProgress(value=0, max=6), HTML(value='')))"
      ]
     },
     "metadata": {},
     "output_type": "display_data"
    },
    {
     "name": "stdout",
     "output_type": "stream",
     "text": [
      "                                                    \n",
      "100%|██████████| 74/74 [00:49<00:00,  1.48it/s]\n",
      "100%|██████████| 16/16 [00:10<00:00,  1.57it/s]\n"
     ]
    },
    {
     "data": {
      "application/vnd.jupyter.widget-view+json": {
       "model_id": "4c18bc1148b5478bad8f3d0fcad70f7b",
       "version_major": 2,
       "version_minor": 0
      },
      "text/plain": [
       "HBox(children=(IntProgress(value=0, description='Epoch', max=3), HTML(value='')))"
      ]
     },
     "metadata": {},
     "output_type": "display_data"
    },
    {
     "name": "stdout",
     "output_type": "stream",
     "text": [
      "epoch      trn_loss   val_loss   accuracy                 \n",
      "    0      1.065785   0.603735   0.798     \n",
      "    1      0.780797   0.511624   0.836                     \n",
      "    2      0.67121    0.455347   0.853                     \n",
      "\n"
     ]
    },
    {
     "data": {
      "text/plain": [
       "[array([0.45535]), 0.8530000009536743]"
      ]
     },
     "execution_count": 10,
     "metadata": {},
     "output_type": "execute_result"
    }
   ],
   "source": [
    "data = get_data(sz, bs)\n",
    "learn = ConvLearner.pretrained(arch, data, precompute=True)\n",
    "learn.fit(lrs=1e-2, n_cycle=3)"
   ]
  },
  {
   "cell_type": "markdown",
   "metadata": {},
   "source": [
    "** Train with data augmentation **"
   ]
  },
  {
   "cell_type": "code",
   "execution_count": 11,
   "metadata": {
    "ExecuteTime": {
     "end_time": "2018-07-20T19:32:41.643512Z",
     "start_time": "2018-07-20T19:28:13.440144Z"
    }
   },
   "outputs": [
    {
     "data": {
      "application/vnd.jupyter.widget-view+json": {
       "model_id": "824b36ea7bba4091af3b2f2ec6241020",
       "version_major": 2,
       "version_minor": 0
      },
      "text/plain": [
       "HBox(children=(IntProgress(value=0, description='Epoch', max=5), HTML(value='')))"
      ]
     },
     "metadata": {},
     "output_type": "display_data"
    },
    {
     "name": "stdout",
     "output_type": "stream",
     "text": [
      "epoch      trn_loss   val_loss   accuracy                  \n",
      "    0      0.644617   0.449032   0.857     \n",
      "    1      0.63145    0.439297   0.8575                    \n",
      "    2      0.619033   0.432397   0.854                     \n",
      "    3      0.601428   0.417755   0.8605                    \n",
      "    4      0.592837   0.41356    0.8645                    \n",
      "\n"
     ]
    },
    {
     "data": {
      "text/plain": [
       "[array([0.41356]), 0.8645]"
      ]
     },
     "execution_count": 11,
     "metadata": {},
     "output_type": "execute_result"
    }
   ],
   "source": [
    "learn.precompute = False\n",
    "learn.fit(lrs=1e-2, n_cycle=5, cycle_len=1)"
   ]
  },
  {
   "cell_type": "code",
   "execution_count": null,
   "metadata": {},
   "outputs": [],
   "source": []
  },
  {
   "cell_type": "markdown",
   "metadata": {},
   "source": [
    "** Train more with layer unfreezing **"
   ]
  },
  {
   "cell_type": "code",
   "execution_count": null,
   "metadata": {
    "ExecuteTime": {
     "end_time": "2018-07-20T11:08:42.140807Z",
     "start_time": "2018-07-20T11:08:42.120037Z"
    }
   },
   "outputs": [],
   "source": [
    "#learn.unfreeze()"
   ]
  },
  {
   "cell_type": "code",
   "execution_count": null,
   "metadata": {
    "ExecuteTime": {
     "end_time": "2018-07-20T11:08:42.164622Z",
     "start_time": "2018-07-20T11:08:42.143307Z"
    }
   },
   "outputs": [],
   "source": [
    "#lr=1e-2\n",
    "#lr=np.array([lr/18,lr/6,lr/2])"
   ]
  },
  {
   "cell_type": "code",
   "execution_count": null,
   "metadata": {
    "ExecuteTime": {
     "end_time": "2018-07-20T11:08:42.185585Z",
     "start_time": "2018-07-20T11:08:42.166971Z"
    }
   },
   "outputs": [],
   "source": [
    "#learn.fit(lr, 3, cycle_len=1, cycle_mult=2)"
   ]
  },
  {
   "cell_type": "code",
   "execution_count": null,
   "metadata": {
    "ExecuteTime": {
     "end_time": "2018-07-20T11:08:42.396073Z",
     "start_time": "2018-07-20T11:08:42.187787Z"
    }
   },
   "outputs": [],
   "source": [
    "!ls"
   ]
  },
  {
   "cell_type": "markdown",
   "metadata": {},
   "source": [
    "** calculate accuracy with test time augmentation **"
   ]
  },
  {
   "cell_type": "code",
   "execution_count": 12,
   "metadata": {
    "ExecuteTime": {
     "end_time": "2018-07-20T19:34:00.720425Z",
     "start_time": "2018-07-20T19:33:07.310252Z"
    }
   },
   "outputs": [
    {
     "name": "stdout",
     "output_type": "stream",
     "text": [
      "                                             \r"
     ]
    },
    {
     "data": {
      "text/plain": [
       "(0.4135916541836198, 0.868)"
      ]
     },
     "execution_count": 12,
     "metadata": {},
     "output_type": "execute_result"
    }
   ],
   "source": [
    "log_preds,y = learn.TTA()\n",
    "preds = np.mean(np.exp(log_preds),axis=0) # normalize accuracies to between 0 - 1\n",
    "(metrics.log_loss(y,preds), accuracy_np(preds,y))"
   ]
  },
  {
   "cell_type": "code",
   "execution_count": 13,
   "metadata": {
    "ExecuteTime": {
     "end_time": "2018-07-20T19:34:26.616468Z",
     "start_time": "2018-07-20T19:34:26.594862Z"
    }
   },
   "outputs": [],
   "source": [
    "predicted_class = np.argmax(preds, axis=1)\n",
    "confidence = np.max(preds, axis=1)"
   ]
  },
  {
   "cell_type": "code",
   "execution_count": 14,
   "metadata": {
    "ExecuteTime": {
     "end_time": "2018-07-20T19:34:27.924408Z",
     "start_time": "2018-07-20T19:34:27.902438Z"
    }
   },
   "outputs": [],
   "source": [
    "predictions_df = pd.DataFrame ({'actual': y, 'pred': predicted_class,'image':learn.data.val_ds.fnames,'conf':confidence})"
   ]
  },
  {
   "cell_type": "code",
   "execution_count": 15,
   "metadata": {
    "ExecuteTime": {
     "end_time": "2018-07-20T19:34:28.990033Z",
     "start_time": "2018-07-20T19:34:28.963557Z"
    }
   },
   "outputs": [],
   "source": [
    "predictions_df['actual_class'] = predictions_df['actual'].apply(lambda x : data.classes[x])\n",
    "predictions_df['pred_class'] = predictions_df['pred'].apply(lambda x : data.classes[x])"
   ]
  },
  {
   "cell_type": "code",
   "execution_count": 16,
   "metadata": {
    "ExecuteTime": {
     "end_time": "2018-07-20T19:34:30.397749Z",
     "start_time": "2018-07-20T19:34:29.885436Z"
    }
   },
   "outputs": [
    {
     "data": {
      "text/html": [
       "<div>\n",
       "<style scoped>\n",
       "    .dataframe tbody tr th:only-of-type {\n",
       "        vertical-align: middle;\n",
       "    }\n",
       "\n",
       "    .dataframe tbody tr th {\n",
       "        vertical-align: top;\n",
       "    }\n",
       "\n",
       "    .dataframe thead th {\n",
       "        text-align: right;\n",
       "    }\n",
       "</style>\n",
       "<table border=\"1\" class=\"dataframe\">\n",
       "  <thead>\n",
       "    <tr style=\"text-align: right;\">\n",
       "      <th></th>\n",
       "      <th>actual</th>\n",
       "      <th>pred</th>\n",
       "      <th>image</th>\n",
       "      <th>conf</th>\n",
       "      <th>actual_class</th>\n",
       "      <th>pred_class</th>\n",
       "    </tr>\n",
       "  </thead>\n",
       "  <tbody>\n",
       "    <tr>\n",
       "      <th>0</th>\n",
       "      <td>0</td>\n",
       "      <td>0</td>\n",
       "      <td>valid/bruschetta/190768.jpg</td>\n",
       "      <td>0.952787</td>\n",
       "      <td>bruschetta</td>\n",
       "      <td>bruschetta</td>\n",
       "    </tr>\n",
       "    <tr>\n",
       "      <th>1</th>\n",
       "      <td>0</td>\n",
       "      <td>0</td>\n",
       "      <td>valid/bruschetta/812769.jpg</td>\n",
       "      <td>0.986058</td>\n",
       "      <td>bruschetta</td>\n",
       "      <td>bruschetta</td>\n",
       "    </tr>\n",
       "    <tr>\n",
       "      <th>2</th>\n",
       "      <td>0</td>\n",
       "      <td>1</td>\n",
       "      <td>valid/bruschetta/1279501.jpg</td>\n",
       "      <td>0.631336</td>\n",
       "      <td>bruschetta</td>\n",
       "      <td>fried_calamari</td>\n",
       "    </tr>\n",
       "    <tr>\n",
       "      <th>3</th>\n",
       "      <td>0</td>\n",
       "      <td>0</td>\n",
       "      <td>valid/bruschetta/1689549.jpg</td>\n",
       "      <td>0.754061</td>\n",
       "      <td>bruschetta</td>\n",
       "      <td>bruschetta</td>\n",
       "    </tr>\n",
       "    <tr>\n",
       "      <th>4</th>\n",
       "      <td>0</td>\n",
       "      <td>0</td>\n",
       "      <td>valid/bruschetta/828467.jpg</td>\n",
       "      <td>0.623873</td>\n",
       "      <td>bruschetta</td>\n",
       "      <td>bruschetta</td>\n",
       "    </tr>\n",
       "  </tbody>\n",
       "</table>\n",
       "</div>"
      ],
      "text/plain": [
       "   actual  pred                         image      conf actual_class  \\\n",
       "0       0     0   valid/bruschetta/190768.jpg  0.952787   bruschetta   \n",
       "1       0     0   valid/bruschetta/812769.jpg  0.986058   bruschetta   \n",
       "2       0     1  valid/bruschetta/1279501.jpg  0.631336   bruschetta   \n",
       "3       0     0  valid/bruschetta/1689549.jpg  0.754061   bruschetta   \n",
       "4       0     0   valid/bruschetta/828467.jpg  0.623873   bruschetta   \n",
       "\n",
       "       pred_class  \n",
       "0      bruschetta  \n",
       "1      bruschetta  \n",
       "2  fried_calamari  \n",
       "3      bruschetta  \n",
       "4      bruschetta  "
      ]
     },
     "execution_count": 16,
     "metadata": {},
     "output_type": "execute_result"
    }
   ],
   "source": [
    "predictions_df.head()\n"
   ]
  },
  {
   "cell_type": "code",
   "execution_count": null,
   "metadata": {},
   "outputs": [],
   "source": []
  },
  {
   "cell_type": "code",
   "execution_count": 17,
   "metadata": {
    "ExecuteTime": {
     "end_time": "2018-07-20T19:34:39.234154Z",
     "start_time": "2018-07-20T19:34:39.209915Z"
    }
   },
   "outputs": [],
   "source": [
    "def predict_class(image_path:str):\n",
    "    \"\"\"\n",
    "    Given an image path (local filesystem), return most top predictions\n",
    "    \"\"\"\n",
    "    \n",
    "    # retrieve the transformation functions used by the DNN architecture\n",
    "    trn_tfms, val_tfms = tfms_from_model(arch, sz)\n",
    "    # read image and apply transforms\n",
    "    im = val_tfms(np.array(open_image(image_path)))\n",
    "\n",
    "    # get probability for all n classes\n",
    "    preds = learn.predict_array(im[None])\n",
    "    # get idx of most likely class\n",
    "    class_idx = np.argmax(preds)\n",
    "    \n",
    "    print(data.classes[class_idx],np.max(preds))\n",
    "    \n",
    "    return helper.get_top_n_predictions(np.exp(preds), data.classes)\n",
    "    #return np.argmax(preds)\n",
    "\n",
    "def predict_class_web(url,ext=\"jpg\"):\n",
    "    url_hash = hashlib.md5(url.encode('utf-8')).hexdigest()\n",
    "    file_name = f'data/downloaded/{url_hash}.{ext}'\n",
    "    f = open(file_name, 'wb')\n",
    "    f.write(request.urlopen(url).read())\n",
    "    f.close()\n",
    "    \n",
    "    return predict_class(file_name)"
   ]
  },
  {
   "cell_type": "code",
   "execution_count": 18,
   "metadata": {
    "ExecuteTime": {
     "end_time": "2018-07-20T19:34:40.388215Z",
     "start_time": "2018-07-20T19:34:40.181429Z"
    }
   },
   "outputs": [],
   "source": [
    "!mkdir -p data/downloaded"
   ]
  },
  {
   "cell_type": "code",
   "execution_count": 19,
   "metadata": {
    "ExecuteTime": {
     "end_time": "2018-07-20T19:34:42.031112Z",
     "start_time": "2018-07-20T19:34:41.321035Z"
    }
   },
   "outputs": [
    {
     "name": "stdout",
     "output_type": "stream",
     "text": [
      "waffles -0.83217406\n"
     ]
    },
    {
     "data": {
      "text/plain": [
       "[('waffles', 0.4351023),\n",
       " ('red_velvet_cake', 0.2871008),\n",
       " ('spring_rolls', 0.11571563),\n",
       " ('tacos', 0.07704235),\n",
       " ('hot_and_sour_soup', 0.035255868)]"
      ]
     },
     "execution_count": 19,
     "metadata": {},
     "output_type": "execute_result"
    }
   ],
   "source": [
    "predict_class_web(\"https://vetstreet.brightspotcdn.com/dims4/default/3407f3b/2147483647/thumbnail/645x380/quality/90/?url=https%3A%2F%2Fvetstreet-brightspot.s3.amazonaws.com%2Ffb%2F31%2F032a6aae436a9821acda211044fb%2Fbulldog-ap-rn4myi-645.jpg\")"
   ]
  },
  {
   "cell_type": "code",
   "execution_count": 20,
   "metadata": {
    "ExecuteTime": {
     "end_time": "2018-07-20T19:34:50.770015Z",
     "start_time": "2018-07-20T19:34:50.747152Z"
    }
   },
   "outputs": [
    {
     "data": {
      "text/plain": [
       "2"
      ]
     },
     "execution_count": 20,
     "metadata": {},
     "output_type": "execute_result"
    }
   ],
   "source": [
    "len(preds.shape)"
   ]
  },
  {
   "cell_type": "markdown",
   "metadata": {},
   "source": [
    "** Confusion Matrix**"
   ]
  },
  {
   "cell_type": "code",
   "execution_count": 21,
   "metadata": {
    "ExecuteTime": {
     "end_time": "2018-07-20T19:34:55.829134Z",
     "start_time": "2018-07-20T19:34:55.804287Z"
    }
   },
   "outputs": [],
   "source": [
    "labels = learn.data.classes\n",
    "cm = confusion_matrix(predictions_df['actual'], predictions_df['pred'])"
   ]
  },
  {
   "cell_type": "code",
   "execution_count": 22,
   "metadata": {
    "ExecuteTime": {
     "end_time": "2018-07-20T19:35:01.253528Z",
     "start_time": "2018-07-20T19:34:56.938994Z"
    },
    "scrolled": false
   },
   "outputs": [
    {
     "data": {
      "image/png": "[encoded data removed]",
      "text/plain": [
       "<Figure size 3600x3600 with 2 Axes>"
      ]
     },
     "metadata": {},
     "output_type": "display_data"
    }
   ],
   "source": [
    "fig, ax = plt.subplots(figsize=(50, 50))\n",
    "_ = sns.heatmap(cm, ax=ax, yticklabels=labels, xticklabels=labels, robust=True)"
   ]
  },
  {
   "cell_type": "code",
   "execution_count": null,
   "metadata": {},
   "outputs": [],
   "source": []
  },
  {
   "cell_type": "code",
   "execution_count": null,
   "metadata": {},
   "outputs": [],
   "source": []
  },
  {
   "cell_type": "code",
   "execution_count": null,
   "metadata": {},
   "outputs": [],
   "source": []
  },
  {
   "cell_type": "code",
   "execution_count": 23,
   "metadata": {
    "ExecuteTime": {
     "end_time": "2018-07-20T19:35:08.178262Z",
     "start_time": "2018-07-20T19:35:08.154594Z"
    }
   },
   "outputs": [
    {
     "data": {
      "text/plain": [
       "{'resnet18': 'https://download.pytorch.org/models/resnet18-5c106cde.pth',\n",
       " 'resnet34': 'https://download.pytorch.org/models/resnet34-333f7ec4.pth',\n",
       " 'resnet50': 'https://download.pytorch.org/models/resnet50-19c8e357.pth',\n",
       " 'resnet101': 'https://download.pytorch.org/models/resnet101-5d3b4d8f.pth',\n",
       " 'resnet152': 'https://download.pytorch.org/models/resnet152-b121ed2d.pth'}"
      ]
     },
     "execution_count": 23,
     "metadata": {},
     "output_type": "execute_result"
    }
   ],
   "source": [
    "fastai.model.model_urls"
   ]
  },
  {
   "cell_type": "code",
   "execution_count": null,
   "metadata": {},
   "outputs": [],
   "source": []
  },
  {
   "cell_type": "code",
   "execution_count": null,
   "metadata": {},
   "outputs": [],
   "source": []
  }
 ],
 "metadata": {
  "kernelspec": {
   "display_name": "Python [default]",
   "language": "python",
   "name": "python3"
  },
  "language_info": {
   "codemirror_mode": {
    "name": "ipython",
    "version": 3
   },
   "file_extension": ".py",
   "mimetype": "text/x-python",
   "name": "python",
   "nbconvert_exporter": "python",
   "pygments_lexer": "ipython3",
   "version": "3.6.5"
  }
 },
 "nbformat": 4,
 "nbformat_minor": 2
}
